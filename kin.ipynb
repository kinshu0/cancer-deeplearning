{
 "cells": [
  {
   "cell_type": "code",
   "execution_count": 1,
   "metadata": {},
   "outputs": [
    {
     "name": "stdout",
     "output_type": "stream",
     "text": [
      "Requirement already satisfied: pydicom in /home/kgupta/miniconda3/envs/kinml/lib/python3.12/site-packages (2.4.4)\n",
      "Note: you may need to restart the kernel to use updated packages.\n"
     ]
    }
   ],
   "source": [
    "%pip install pydicom"
   ]
  },
  {
   "cell_type": "markdown",
   "metadata": {},
   "source": [
    "- Modalities - MR\n",
    "- Number of Participants - 346\n",
    "- Number of Studies - 349\n",
    "- Number of Series - 18,321\n",
    "- Number of Images - 309,251\n",
    "- Images Size (GB) - 15.1"
   ]
  },
  {
   "cell_type": "code",
   "execution_count": 2,
   "metadata": {},
   "outputs": [],
   "source": [
    "import os\n",
    "from pathlib import Path"
   ]
  },
  {
   "cell_type": "code",
   "execution_count": 6,
   "metadata": {},
   "outputs": [
    {
     "name": "stdout",
     "output_type": "stream",
     "text": [
      "Number of patients: 346\n"
     ]
    }
   ],
   "source": [
    "dataset_path = Path('PROSTATEx')\n",
    "\n",
    "patients = os.listdir(dataset_path)\n",
    "\n",
    "print('Number of patients:', len(patients))"
   ]
  },
  {
   "cell_type": "code",
   "execution_count": 9,
   "metadata": {},
   "outputs": [],
   "source": [
    "# PROSTATEx/ProstateX-0003/10-17-2011-MC prostaat kliniek detectie-mc MCPROSKL30-03010/3.000000-t2tsetra-30967\n",
    "\n",
    "t2tsetra_folders = list(dataset_path.glob('**/*t2tsetra*'))"
   ]
  },
  {
   "cell_type": "code",
   "execution_count": 11,
   "metadata": {},
   "outputs": [
    {
     "data": {
      "text/plain": [
       "431"
      ]
     },
     "execution_count": 11,
     "metadata": {},
     "output_type": "execute_result"
    }
   ],
   "source": [
    "len(t2tsetra_folders)"
   ]
  },
  {
   "cell_type": "code",
   "execution_count": null,
   "metadata": {},
   "outputs": [],
   "source": [
    "import pydicom\n",
    "\n",
    "def load_dicom_images(patient_path):\n",
    "    images = []\n",
    "    for dicom_file in patient_path.glob('*.dcm'):\n",
    "        ds = pydicom.dcmread(dicom_file)\n",
    "        images.append(ds)\n",
    "    return images\n",
    "\n",
    "patient = patients[0]\n",
    "patient_path = dataset_path / patient\n",
    "\n"
   ]
  }
 ],
 "metadata": {
  "kernelspec": {
   "display_name": "Python 3",
   "language": "python",
   "name": "python3"
  },
  "language_info": {
   "codemirror_mode": {
    "name": "ipython",
    "version": 3
   },
   "file_extension": ".py",
   "mimetype": "text/x-python",
   "name": "python",
   "nbconvert_exporter": "python",
   "pygments_lexer": "ipython3",
   "version": "3.12.1"
  }
 },
 "nbformat": 4,
 "nbformat_minor": 2
}
