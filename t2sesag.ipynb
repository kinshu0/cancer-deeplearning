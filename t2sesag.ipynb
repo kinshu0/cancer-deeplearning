{
 "cells": [
  {
   "cell_type": "code",
   "execution_count": 1,
   "metadata": {},
   "outputs": [],
   "source": [
    "import torch\n",
    "\n",
    "from torch import nn\n",
    "from torch import optim\n",
    "\n",
    "import torch.nn.functional as F\n",
    "\n",
    "from torchvision import datasets, transforms, models\n",
    "\n",
    "import matplotlib.pyplot as plt\n",
    "import numpy as np\n",
    "import torch\n",
    "from torch import nn\n",
    "from torch import optim\n",
    "import torch.nn.functional as F\n",
    "from torchvision import datasets, transforms, models\n",
    "\n",
    "import os\n",
    "import re"
   ]
  },
  {
   "cell_type": "code",
   "execution_count": 2,
   "metadata": {},
   "outputs": [],
   "source": [
    "root = \"PROSTATEx\"\n",
    "l = os.walk(root)\n",
    "folders_list = [x[0] for x in os.walk(root)]\n",
    "t2sag_folders = [x for x in folders_list if re.search('t2tsetra',x) ]"
   ]
  },
  {
   "cell_type": "code",
   "execution_count": 8,
   "metadata": {},
   "outputs": [],
   "source": [
    "folders_list = [x[0] for x in os.walk(root)]"
   ]
  },
  {
   "cell_type": "code",
   "execution_count": 9,
   "metadata": {},
   "outputs": [],
   "source": [
    "t2sag_folders = [x for x in folders_list if re.search('t2tsetra',x) ]"
   ]
  },
  {
   "cell_type": "code",
   "execution_count": 10,
   "metadata": {},
   "outputs": [
    {
     "data": {
      "text/plain": [
       "['PROSTATEx/ProstateX-0290/03-01-2011-MC prostaat kliniek detectie-mc MCPROSKL30-54312/6.000000-t2tsetra-17278',\n",
       " 'PROSTATEx/ProstateX-0290/03-01-2011-MC prostaat kliniek detectie-mc MCPROSKL30-54312/10.000000-t2tsetra-14268',\n",
       " 'PROSTATEx/ProstateX-0333/04-10-2011-MR prostaat kanker detectie NDmc MCAPRODETN-92300/5.000000-t2tsetra-86402',\n",
       " 'PROSTATEx/ProstateX-0284/02-26-2011-MR prostaat kanker detectie WDSmc MCAPRODETW-85653/5.000000-t2tsetra-65403',\n",
       " 'PROSTATEx/ProstateX-0087/12-25-2011-MC prostaat kliniek detectie-mc MCPROSKL30-61891/4.000000-t2tsetra-46289',\n",
       " 'PROSTATEx/ProstateX-0086/12-19-2011-MC prostaat kliniek detectie-mc MCPROSKL30-69599/4.000000-t2tsetra-82393',\n",
       " 'PROSTATEx/ProstateX-0334/04-16-2011-MR prostaat kanker detectiemc MCAPRODET-89274/4.000000-t2tsetra-04037',\n",
       " 'PROSTATEx/ProstateX-0037/11-03-2011-MR prostaat kanker detectie WDSmc MCAPRODETW-19656/4.000000-t2tsetra-89375',\n",
       " 'PROSTATEx/ProstateX-0273/12-14-2011-MR prostaat kanker detectie WDSmc MCAPRODETW-92767/4.000000-t2tsetra-91219',\n",
       " 'PROSTATEx/ProstateX-0149/03-12-2012-MR prostaat kanker detectiemc MCAPRODET-34078/9.000000-t2tsetra-83985',\n",
       " 'PROSTATEx/ProstateX-0149/03-12-2012-MR prostaat kanker detectiemc MCAPRODET-34078/4.000000-t2tsetra-57840',\n",
       " 'PROSTATEx/ProstateX-0166/04-03-2012-MC prostaat kliniek detectie-mc MCPROSKL30-46739/55.000000-t2tsetra-41397',\n",
       " 'PROSTATEx/ProstateX-0166/04-03-2012-MC prostaat kliniek detectie-mc MCPROSKL30-46739/4.000000-t2tsetra-57947',\n",
       " 'PROSTATEx/ProstateX-0056/11-23-2011-MR prostaat kanker detectiemc MCAPRODET-68459/4.000000-t2tsetra-25861',\n",
       " 'PROSTATEx/ProstateX-0085/12-19-2011-MC prostaat kliniek detectie-mc MCPROSKL30-97056/5.000000-t2tsetra-61230',\n",
       " 'PROSTATEx/ProstateX-0249/08-11-2011-MR prostaat kanker detectiemc MCAPRODET-37591/4.000000-t2tsetra-46307',\n",
       " 'PROSTATEx/ProstateX-0235/05-14-2011-MR prostaat kanker detectie WDSmc MCAPRODETW-23563/5.000000-t2tsetra-59206',\n",
       " 'PROSTATEx/ProstateX-0201/09-01-2011-MR prostaat kanker detectie WDSmc MCAPRODETW-28071/4.000000-t2tsetra-83535',\n",
       " 'PROSTATEx/ProstateX-0252/08-17-2011-MR prostaat kanker detectiemc MCAPRODET-01284/5.000000-t2tsetra-34213',\n",
       " 'PROSTATEx/ProstateX-0214/01-04-2012-MR prostaat kanker detectie WDSmc MCAPRODETW-30221/5.000000-t2tsetra-57295',\n",
       " 'PROSTATEx/ProstateX-0312/03-23-2011-MC prostaat kliniek detectie-mc MCPROSKL30-59403/4.000000-t2tsetra-72451',\n",
       " 'PROSTATEx/ProstateX-0182/05-17-2012-MR prostaat kanker detectiemc MCAPRODET-86690/4.000000-t2tsetra-88478',\n",
       " 'PROSTATEx/ProstateX-0158/03-26-2012-MR prostaat kanker detectiemc MCAPRODET-40637/4.000000-t2tsetra-92411',\n",
       " 'PROSTATEx/ProstateX-0154/03-21-2012-MR prostaat kanker detectie WDSmc MCAPRODETW-88301/4.000000-t2tsetra-89111',\n",
       " 'PROSTATEx/ProstateX-0002/07-15-2011-MR prostaat kanker detectiemc MCAPRODET-88784/4.000000-t2tsetra-44920',\n",
       " 'PROSTATEx/ProstateX-0269/12-03-2011-MR prostaat kanker detectie WDSmc MCAPRODETW-76704/4.000000-t2tsetra-95085',\n",
       " 'PROSTATEx/ProstateX-0231/05-03-2011-MR prostaat kanker detectiemc MCAPRODET-72625/4.000000-t2tsetra-60690',\n",
       " 'PROSTATEx/ProstateX-0069/12-07-2011-MR prostaat kanker detectiemc MCAPRODET-43338/4.000000-t2tsetra-62639',\n",
       " 'PROSTATEx/ProstateX-0047/11-17-2011-MR prostaat kanker detectie NDmc MCAPRODETN-84221/4.000000-t2tsetra-08775',\n",
       " 'PROSTATEx/ProstateX-0035/07-22-2011-MR prostaat kanker detectiemc MCAPRODET-24427/4.000000-t2tsetra-94147',\n",
       " 'PROSTATEx/ProstateX-0256/02-17-2011-MR prostaat kanker detectiemc MCAPRODET-79837/4.000000-t2tsetra-43456',\n",
       " 'PROSTATEx/ProstateX-0325/04-02-2011-MR prostaat kanker detectiemc MCAPRODET-42531/4.000000-t2tsetra-00404',\n",
       " 'PROSTATEx/ProstateX-0228/04-29-2011-MR prostaat kanker detectiemc MCAPRODET-84473/5.000000-t2tsetra-61795',\n",
       " 'PROSTATEx/ProstateX-0142/03-01-2012-MR prostaat kanker detectie WDSmc MCAPRODETW-70358/4.000000-t2tsetra-79128',\n",
       " 'PROSTATEx/ProstateX-0193/06-02-2012-MR prostaat kanker detectiemc MCAPRODET-94505/4.000000-t2tsetra-90291',\n",
       " 'PROSTATEx/ProstateX-0211/12-24-2011-MR prostaat kanker detectiemc MCAPRODET-28186/5.000000-t2tsetra-79520',\n",
       " 'PROSTATEx/ProstateX-0076/12-13-2011-MR prostaat kanker detectie WDSmc MCAPRODETW-46372/5.000000-t2tsetra-96864',\n",
       " 'PROSTATEx/ProstateX-0266/11-15-2011-MR prostaat kanker detectie WDSmc MCAPRODETW-57431/4.000000-t2tsetra-54868',\n",
       " 'PROSTATEx/ProstateX-0057/07-29-2011-MR prostaat kanker detectiemc MCAPRODET-74351/5.000000-t2tsetra-77030',\n",
       " 'PROSTATEx/ProstateX-0091/12-26-2011-MC prostaat kliniek detectie-mc MCPROSKL30-16280/4.000000-t2tsetra-83977',\n",
       " 'PROSTATEx/ProstateX-0279/02-23-2011-MR prostaat kanker detectie WDSmc MCAPRODETW-54041/4.000000-t2tsetra-07590',\n",
       " 'PROSTATEx/ProstateX-0175/04-26-2012-MR prostaat kanker detectiemc MCAPRODET-66961/4.000000-t2tsetra-16017',\n",
       " 'PROSTATEx/ProstateX-0130/02-09-2012-MR prostaat kanker detectie WDSmc MCAPRODETW-31403/4.000000-t2tsetra-47643',\n",
       " 'PROSTATEx/ProstateX-0221/03-09-2011-MR prostaat kanker detectie WDSmc MCAPRODETW-75695/4.000000-t2tsetra-36950',\n",
       " 'PROSTATEx/ProstateX-0305/03-16-2011-MC prostaat kliniek detectie-mc MCPROSKL30-27288/5.000000-t2tsetra-54156',\n",
       " 'PROSTATEx/ProstateX-0191/05-29-2012-MC prostaat kliniek detectie-mc MCPROSKL30-61650/2.000000-t2tsetraGrappa3-70574',\n",
       " 'PROSTATEx/ProstateX-0031/10-31-2011-MR prostaat kanker detectie WDSmc MCAPRODETW-33857/5.000000-t2tsetra-69127',\n",
       " 'PROSTATEx/ProstateX-0031/10-31-2011-MR prostaat kanker detectie WDSmc MCAPRODETW-33857/9.000000-t2tsetra-26105',\n",
       " 'PROSTATEx/ProstateX-0226/04-03-2011-MR prostaat kanker detectiemc MCAPRODET-73380/4.000000-t2tsetra-67069',\n",
       " 'PROSTATEx/ProstateX-0226/04-03-2011-MR prostaat kanker detectiemc MCAPRODET-73380/6.000000-t2tsetra-95352',\n",
       " 'PROSTATEx/ProstateX-0061/11-24-2011-MR prostaat kanker detectie WDSmc MCAPRODETW-28843/6.000000-t2tsetra-80230',\n",
       " 'PROSTATEx/ProstateX-0061/11-24-2011-MR prostaat kanker detectie WDSmc MCAPRODETW-28843/4.000000-t2tsetra-80606',\n",
       " 'PROSTATEx/ProstateX-0141/02-27-2012-MR prostaat kanker detectie WDSmc MCAPRODETW-13926/6.000000-t2tsetra-95919',\n",
       " 'PROSTATEx/ProstateX-0141/02-27-2012-MR prostaat kanker detectie WDSmc MCAPRODETW-13926/4.000000-t2tsetra-41825',\n",
       " 'PROSTATEx/ProstateX-0335/01-14-2011-MC prostaat kliniek detectie-mc MCPROSKL30-32887/4.000000-t2tsetra-90631',\n",
       " 'PROSTATEx/ProstateX-0104/01-12-2012-MR prostaat kanker detectie WDSmc MCAPRODETW-27434/5.000000-t2tsetra-33740',\n",
       " 'PROSTATEx/ProstateX-0169/04-05-2012-MR prostaat kanker detectiemc MCAPRODET-67953/4.000000-t2tsetra-35230',\n",
       " 'PROSTATEx/ProstateX-0308/03-19-2011-MR prostaat kanker detectie WDSmc MCAPRODETW-10724/5.000000-t2tsetra-24629',\n",
       " 'PROSTATEx/ProstateX-0304/03-16-2011-MR prostaat kanker detectie WDSmc MCAPRODETW-67829/4.000000-t2tsetra-72621',\n",
       " 'PROSTATEx/ProstateX-0233/05-12-2011-MR prostaat kanker detectiemc MCAPRODET-12698/4.000000-t2tsetra-66037',\n",
       " 'PROSTATEx/ProstateX-0281/02-25-2011-MR prostaat kanker detectie WDSmc MCAPRODETW-07743/6.000000-t2tsetra-52217',\n",
       " 'PROSTATEx/ProstateX-0281/02-25-2011-MR prostaat kanker detectie WDSmc MCAPRODETW-07743/10.000000-t2tsetra-44298',\n",
       " 'PROSTATEx/ProstateX-0077/12-15-2011-MR prostaat kanker detectiemc MCAPRODET-20497/4.000000-t2tsetra-25749',\n",
       " 'PROSTATEx/ProstateX-0077/12-15-2011-MR prostaat kanker detectiemc MCAPRODET-20497/6.000000-t2tsetra-59073',\n",
       " 'PROSTATEx/ProstateX-0146/03-08-2012-MR prostaat kanker detectie WDSmc MCAPRODETW-87656/4.000000-t2tsetra-76067',\n",
       " 'PROSTATEx/ProstateX-0016/10-25-2011-MC prostaat kliniek detectie-mc MCPROSKL30-60925/4.000000-t2tsetra-75658',\n",
       " 'PROSTATEx/ProstateX-0318/03-26-2011-MR prostaat kanker detectiemc MCAPRODET-18123/8.000000-t2tsetra-44250',\n",
       " 'PROSTATEx/ProstateX-0159/03-26-2012-MC prostaat kliniek detectie-mc MCPROSKL30-47802/4.000000-t2tsetra-07078',\n",
       " 'PROSTATEx/ProstateX-0093/12-28-2011-MR prostaat kanker detectie WDSmc MCAPRODETW-08731/4.000000-t2tsetra-09130',\n",
       " 'PROSTATEx/ProstateX-0070/12-07-2011-MR prostaat kanker detectie WDSmc MCAPRODETW-53847/4.000000-t2tsetra-41361',\n",
       " 'PROSTATEx/ProstateX-0218/02-18-2011-MR prostaat detectie PCMAPSmc MCAPCMAPS-19528/5.000000-t2tsetra320p2-09906',\n",
       " 'PROSTATEx/ProstateX-0300/03-09-2011-MR prostaat kanker detectie WDSmc MCAPRODETW-96941/5.000000-t2tsetra-96591',\n",
       " 'PROSTATEx/ProstateX-0250/08-17-2011-MR prostaat kanker detectie WDSmc MCAPRODETW-34905/5.000000-t2tsetra-48436',\n",
       " 'PROSTATEx/ProstateX-0160/03-26-2012-MC prostaat kliniek detectie-mc MCPROSKL30-96804/6.000000-t2tsetra-19489',\n",
       " 'PROSTATEx/ProstateX-0160/03-26-2012-MC prostaat kliniek detectie-mc MCPROSKL30-96804/4.000000-t2tsetra-45543',\n",
       " 'PROSTATEx/ProstateX-0324/01-14-2011-MR prostaat kanker detectie WDSmc MCAPRODETW-40247/6.000000-t2tsetra-98083',\n",
       " 'PROSTATEx/ProstateX-0324/01-14-2011-MR prostaat kanker detectie WDSmc MCAPRODETW-40247/4.000000-t2tsetra-09742',\n",
       " 'PROSTATEx/ProstateX-0276/02-22-2011-MC prostaat kliniek detectie-mc MCPROSKL30-54401/4.000000-t2tsetra-63463',\n",
       " 'PROSTATEx/ProstateX-0283/02-26-2011-MR prostaat kanker detectie WDSmc MCAPRODETW-08047/9.000000-t2tsetra-74141',\n",
       " 'PROSTATEx/ProstateX-0283/02-26-2011-MR prostaat kanker detectie WDSmc MCAPRODETW-08047/5.000000-t2tsetra-71230',\n",
       " 'PROSTATEx/ProstateX-0111/01-15-2012-MC prostaat kliniek detectie-mc MCPROSKL30-23179/4.000000-t2tsetra-36831',\n",
       " 'PROSTATEx/ProstateX-0294/03-04-2011-MR prostaat kanker detectie WDSmc MCAPRODETW-43251/4.000000-t2tsetra-49351',\n",
       " 'PROSTATEx/ProstateX-0331/04-09-2011-MR prostaat kanker detectie WDSmc MCAPRODETW-94663/4.000000-t2tsetra-64718',\n",
       " 'PROSTATEx/ProstateX-0245/02-17-2011-MR prostaat kanker detectiemc MCAPRODET-89117/5.000000-t2tsetra-52340',\n",
       " 'PROSTATEx/ProstateX-0001/07-08-2011-MR prostaat kanker detectie WDSmc MCAPRODETW-95738/10.000000-t2tsetra-17541',\n",
       " 'PROSTATEx/ProstateX-0001/07-08-2011-MR prostaat kanker detectie WDSmc MCAPRODETW-95738/6.000000-t2tsetra-76610',\n",
       " 'PROSTATEx/ProstateX-0120/01-22-2012-MC prostaat kliniek detectie-mc MCPROSKL30-13710/5.000000-t2tsetra-02055',\n",
       " 'PROSTATEx/ProstateX-0224/03-09-2011-MR prostaat kanker detectie WDSmc MCAPRODETW-78462/6.000000-t2tsetra-57402',\n",
       " 'PROSTATEx/ProstateX-0224/03-09-2011-MR prostaat kanker detectie WDSmc MCAPRODETW-78462/4.000000-t2tsetra-25647',\n",
       " 'PROSTATEx/ProstateX-0278/02-22-2011-MC prostaat kliniek detectie-mc MCPROSKL30-52662/4.000000-t2tsetra-86429',\n",
       " 'PROSTATEx/ProstateX-0236/05-19-2011-MR prostaat kanker detectiemc MCAPRODET-49702/4.000000-t2tsetra-44391',\n",
       " 'PROSTATEx/ProstateX-0081/12-18-2011-MC prostaat kliniek detectie-mc MCPROSKL30-36317/4.000000-t2tsetra-00858',\n",
       " 'PROSTATEx/ProstateX-0223/02-16-2011-MC prostaat kliniek detectie-mc MCPROSKL30-92038/5.000000-t2tsetra-87978',\n",
       " 'PROSTATEx/ProstateX-0202/09-01-2011-MR prostaat kanker detectie WDSmc MCAPRODETW-88368/4.000000-t2tsetra-43194',\n",
       " 'PROSTATEx/ProstateX-0135/08-10-2011-MR prostaat kanker detectiemc MCAPRODET-21385/4.000000-t2tsetra-30897',\n",
       " 'PROSTATEx/ProstateX-0084/12-19-2011-MR prostaat kanker detectie WDSmc MCAPRODETW-11415/5.000000-t2tsetra-71210',\n",
       " 'PROSTATEx/ProstateX-0121/01-25-2012-MR prostaat kanker detectie WDSmc MCAPRODETW-93764/4.000000-t2tsetra-88643',\n",
       " 'PROSTATEx/ProstateX-0199/07-27-2011-MR prostaat kanker detectiemc MCAPRODET-49708/4.000000-t2tsetra-99785',\n",
       " 'PROSTATEx/ProstateX-0103/01-05-2012-MR prostaat kanker detectiemc MCAPRODET-63410/5.000000-t2tsetra-11450',\n",
       " 'PROSTATEx/ProstateX-0029/10-30-2011-MC prostaat kliniek detectie-mc MCPROSKL30-96230/5.000000-t2tsetra-91675',\n",
       " 'PROSTATEx/ProstateX-0264/09-30-2011-MR prostaat kanker detectiemc MCAPRODET-95123/5.000000-t2tsetra-97322',\n",
       " 'PROSTATEx/ProstateX-0264/09-30-2011-MR prostaat kanker detectiemc MCAPRODET-95123/7.000000-t2tsetra-25052',\n",
       " 'PROSTATEx/ProstateX-0204/02-22-2012-MR prostaat kanker detectiemc MCAPRODET-07298/10.000000-t2tsetra-24134',\n",
       " 'PROSTATEx/ProstateX-0204/02-22-2012-MR prostaat kanker detectiemc MCAPRODET-07298/5.000000-t2tsetra-09393',\n",
       " 'PROSTATEx/ProstateX-0116/01-18-2012-MR prostaat kanker detectiemc MCAPRODET-56041/4.000000-t2tsetra-81051',\n",
       " 'PROSTATEx/ProstateX-0116/01-18-2012-MR prostaat kanker detectiemc MCAPRODET-56041/9.000000-t2tsetra-41482',\n",
       " 'PROSTATEx/ProstateX-0105/01-12-2012-MR prostaat kanker detectie WDSmc MCAPRODETW-92981/9.000000-t2tsetra-82153',\n",
       " 'PROSTATEx/ProstateX-0105/01-12-2012-MR prostaat kanker detectie WDSmc MCAPRODETW-92981/5.000000-t2tsetra-10025',\n",
       " 'PROSTATEx/ProstateX-0039/11-07-2011-MC prostaat kliniek detectie-mc MCPROSKL30-79281/5.000000-t2tsetra-25795',\n",
       " 'PROSTATEx/ProstateX-0198/06-15-2012-MR prostaat kanker detectie WDSmc MCAPRODETW-75480/5.000000-t2tsetra-07777',\n",
       " 'PROSTATEx/ProstateX-0196/06-08-2012-MR prostaat kanker detectiemc MCAPRODET-77327/4.000000-t2tsetra-56593',\n",
       " 'PROSTATEx/ProstateX-0288/03-01-2011-MR prostaat kanker detectie WDSmc MCAPRODETW-50073/5.000000-t2tsetra-55341',\n",
       " 'PROSTATEx/ProstateX-0107/01-12-2012-MR prostaat kanker detectiemc MCAPRODET-99926/5.000000-t2tsetra-75238',\n",
       " 'PROSTATEx/ProstateX-0140/02-22-2012-MR prostaat kanker detectie WDSmc MCAPRODETW-28058/5.000000-t2tsetra-00283',\n",
       " 'PROSTATEx/ProstateX-0222/01-08-2011-MR prostaat kanker detectiemc MCAPRODET-98105/4.000000-t2tsetra-97183',\n",
       " 'PROSTATEx/ProstateX-0011/10-22-2011-MR prostaat kanker detectie WDSmc MCAPRODETW-61352/4.000000-t2tsetra-48529',\n",
       " 'PROSTATEx/ProstateX-0011/10-22-2011-MR prostaat kanker detectie WDSmc MCAPRODETW-61352/6.000000-t2tsetra-00502',\n",
       " 'PROSTATEx/ProstateX-0192/06-02-2012-MR prostaat kanker detectie WDSmc MCAPRODETW-73734/4.000000-t2tsetra-62626',\n",
       " 'PROSTATEx/ProstateX-0046/07-25-2011-MR prostaat kanker detectie WDSmc MCAPRODETW-10345/5.000000-t2tsetra-87909',\n",
       " 'PROSTATEx/ProstateX-0215/01-04-2012-MR prostaat kanker detectie WDSmc MCAPRODETW-43944/5.000000-t2tsetra-28348',\n",
       " 'PROSTATEx/ProstateX-0341/04-17-2011-MR prostaat kanker detectie NDmc MCAPRODETN-10525/4.000000-t2tsetra-02031',\n",
       " 'PROSTATEx/ProstateX-0019/10-25-2011-MC prostaat kliniek detectie-mc MCPROSKL30-27372/5.000000-t2tsetra-65888',\n",
       " 'PROSTATEx/ProstateX-0019/10-25-2011-MC prostaat kliniek detectie-mc MCPROSKL30-27372/9.000000-t2tsetra-13923',\n",
       " 'PROSTATEx/ProstateX-0118/01-19-2012-MR prostaat kanker detectie WDSmc MCAPRODETW-71459/4.000000-t2tsetra-66189',\n",
       " 'PROSTATEx/ProstateX-0083/12-18-2011-MC prostaat kliniek detectie-mc MCPROSKL30-07612/4.000000-t2tsetra-08935',\n",
       " 'PROSTATEx/ProstateX-0071/12-11-2011-MR prostaat kanker detectie WDSmc MCAPRODETW-30748/4.000000-t2tsetra-71497',\n",
       " 'PROSTATEx/ProstateX-0168/04-03-2012-MC prostaat kliniek detectie-mc MCPROSKL30-25546/5.000000-t2tsetra-72819',\n",
       " 'PROSTATEx/ProstateX-0168/04-03-2012-MC prostaat kliniek detectie-mc MCPROSKL30-25546/55.000000-t2tsetra-21258',\n",
       " 'PROSTATEx/ProstateX-0139/02-20-2012-MR prostaat kanker detectie WDSmc MCAPRODETW-45085/5.000000-t2tsetra-57549',\n",
       " 'PROSTATEx/ProstateX-0128/02-08-2012-MR prostaat kanker detectie WDSmc MCAPRODETW-65507/5.000000-t2tsetra-35834',\n",
       " 'PROSTATEx/ProstateX-0197/08-16-2011-MR prostaat kanker detectiemc MCAPRODET-21444/9.000000-t2tsetra-53368',\n",
       " 'PROSTATEx/ProstateX-0197/08-16-2011-MR prostaat kanker detectiemc MCAPRODET-21444/5.000000-t2tsetra-80802',\n",
       " 'PROSTATEx/ProstateX-0322/03-31-2011-MR prostaat kanker detectiemc MCAPRODET-53122/4.000000-t2tsetra-43710',\n",
       " 'PROSTATEx/ProstateX-0255/08-18-2011-MR prostaat kanker detectie WDSmc MCAPRODETW-29774/4.000000-t2tsetra-96350',\n",
       " 'PROSTATEx/ProstateX-0143/03-01-2012-MR prostaat kanker detectie WDSmc MCAPRODETW-17558/5.000000-t2tsetra-21277',\n",
       " 'PROSTATEx/ProstateX-0144/03-08-2012-MR prostaat kanker detectie WDSmc MCAPRODETW-87069/4.000000-t2tsetra-54592',\n",
       " 'PROSTATEx/ProstateX-0053/11-22-2011-MR prostaat kanker detectie WDSmc MCAPRODETW-32421/5.000000-t2tsetra-83699',\n",
       " 'PROSTATEx/ProstateX-0270/12-11-2011-MR prostaat kanker detectie WDSmc MCAPRODETW-38671/9.000000-t2tsetra-74453',\n",
       " 'PROSTATEx/ProstateX-0270/12-11-2011-MR prostaat kanker detectie WDSmc MCAPRODETW-38671/4.000000-t2tsetra-43701',\n",
       " 'PROSTATEx/ProstateX-0178/04-30-2012-MC prostaat kliniek detectie-mc MCPROSKL30-78153/4.000000-t2tsetra-47871',\n",
       " 'PROSTATEx/ProstateX-0129/02-09-2012-MR prostaat kanker detectiemc MCAPRODET-74054/4.000000-t2tsetra-45833',\n",
       " 'PROSTATEx/ProstateX-0176/04-27-2012-MR prostaat kanker detectie WDSmc MCAPRODETW-82519/4.000000-t2tsetra-97964',\n",
       " 'PROSTATEx/ProstateX-0176/04-27-2012-MR prostaat kanker detectie WDSmc MCAPRODETW-82519/5.000000-t2tsetra-95625',\n",
       " 'PROSTATEx/ProstateX-0163/03-30-2012-MR prostaat kanker detectiemc MCAPRODET-69587/5.000000-t2tsetra-84249',\n",
       " 'PROSTATEx/ProstateX-0259/08-31-2011-MR prostaat kanker detectie WDSmc MCAPRODETW-19892/4.000000-t2tsetra-36637',\n",
       " 'PROSTATEx/ProstateX-0311/03-20-2011-MR prostaat kanker detectie WDSmc MCAPRODETW-86832/4.000000-t2tsetra-90165',\n",
       " 'PROSTATEx/ProstateX-0072/12-11-2011-MR prostaat kanker detectie WDSmc MCAPRODETW-65282/5.000000-t2tsetra-87944',\n",
       " 'PROSTATEx/ProstateX-0247/07-06-2011-MR prostaat kanker detectie WDSmc MCAPRODETW-86677/4.000000-t2tsetra-62310',\n",
       " 'PROSTATEx/ProstateX-0345/04-20-2011-MC prostaat kliniek detectie-mc MCPROSKL30-83253/5.000000-t2tsetra-83053',\n",
       " 'PROSTATEx/ProstateX-0088/12-26-2011-MR prostaat kanker detectie WDSmc MCAPRODETW-85313/4.000000-t2tsetra-63557',\n",
       " 'PROSTATEx/ProstateX-0126/02-06-2012-MR prostaat kanker detectiemc MCAPRODET-00231/4.000000-t2tsetra-84889',\n",
       " 'PROSTATEx/ProstateX-0126/02-06-2012-MR prostaat kanker detectiemc MCAPRODET-00231/6.000000-t2tsetra-33725',\n",
       " 'PROSTATEx/ProstateX-0022/10-27-2011-MC prostaat kliniek detectie-mc MCPROSKL30-74010/4.000000-t2tsetra-02628',\n",
       " 'PROSTATEx/ProstateX-0145/08-11-2011-MR prostaat kanker detectiemc MCAPRODET-77649/4.000000-t2tsetra-61709',\n",
       " 'PROSTATEx/ProstateX-0289/03-01-2011-MC prostaat kliniek detectie-mc MCPROSKL30-88849/4.000000-t2tsetra-26209',\n",
       " 'PROSTATEx/ProstateX-0291/01-11-2011-MR prostaat kanker detectiemc MCAPRODET-17949/5.000000-t2tsetra-51242',\n",
       " 'PROSTATEx/ProstateX-0041/11-10-2011-MR prostaat kanker detectie WDSmc MCAPRODETW-62936/4.000000-t2tsetra-28232',\n",
       " 'PROSTATEx/ProstateX-0268/12-03-2011-MR prostaat kanker detectiemc MCAPRODET-95165/6.000000-t2tsetra-87341',\n",
       " 'PROSTATEx/ProstateX-0268/12-03-2011-MR prostaat kanker detectiemc MCAPRODET-95165/4.000000-t2tsetra-93882',\n",
       " 'PROSTATEx/ProstateX-0301/03-11-2011-MR prostaat kanker detectiemc MCAPRODET-94705/4.000000-t2tsetra-18441',\n",
       " 'PROSTATEx/ProstateX-0338/04-16-2011-MR prostaat kanker detectiemc MCAPRODET-05002/4.000000-t2tsetra-37717',\n",
       " 'PROSTATEx/ProstateX-0004/10-18-2011-MR prostaat kanker detectie WDSmc MCAPRODETW-45493/5.000000-t2tsetra-75680',\n",
       " 'PROSTATEx/ProstateX-0216/02-16-2011-MR prostaat kanker detectie WDSmc MCAPRODETW-34043/4.000000-t2tsetra-64320',\n",
       " 'PROSTATEx/ProstateX-0097/01-01-2012-MR prostaat kanker detectie WDSmc MCAPRODETW-04966/5.000000-t2tsetra-69456',\n",
       " 'PROSTATEx/ProstateX-0097/01-01-2012-MR prostaat kanker detectie WDSmc MCAPRODETW-04966/9.000000-t2tsetra-74869',\n",
       " 'PROSTATEx/ProstateX-0229/04-29-2011-MR prostaat kanker detectiemc MCAPRODET-23807/5.000000-t2tsetra-97554',\n",
       " 'PROSTATEx/ProstateX-0179/05-08-2012-MR prostaat kanker detectie WDSmc MCAPRODETW-38889/7.000000-t2tsetra-10183',\n",
       " 'PROSTATEx/ProstateX-0179/05-08-2012-MR prostaat kanker detectie WDSmc MCAPRODETW-38889/5.000000-t2tsetra-29801',\n",
       " 'PROSTATEx/ProstateX-0323/04-01-2011-MR prostaat kanker detectie WDSmc MCAPRODETW-71395/4.000000-t2tsetra-48239',\n",
       " 'PROSTATEx/ProstateX-0271/12-14-2011-MR prostaat kanker detectiemc MCAPRODET-07710/5.000000-t2tsetra-70072',\n",
       " 'PROSTATEx/ProstateX-0117/01-19-2012-MR prostaat kanker detectie NDmc MCAPRODETN-92835/4.000000-t2tsetra-52963',\n",
       " 'PROSTATEx/ProstateX-0275/02-22-2011-MR prostaat kanker detectiemc MCAPRODET-86102/4.000000-t2tsetra-99559',\n",
       " 'PROSTATEx/ProstateX-0297/03-08-2011-MC prostaat kliniek detectie-mc MCPROSKL30-92842/5.000000-t2tsetra-79876',\n",
       " 'PROSTATEx/ProstateX-0244/07-01-2011-MR prostaat kanker detectiemc MCAPRODET-89629/4.000000-t2tsetra-68929',\n",
       " 'PROSTATEx/ProstateX-0148/03-12-2012-MR prostaat kanker detectie WDSmc MCAPRODETW-33123/4.000000-t2tsetra-34347',\n",
       " 'PROSTATEx/ProstateX-0148/03-12-2012-MR prostaat kanker detectie WDSmc MCAPRODETW-33123/6.000000-t2tsetra-64911',\n",
       " 'PROSTATEx/ProstateX-0165/04-03-2012-MR prostaat kanker detectie WDSmc MCAPRODETW-85793/4.000000-t2tsetra-16387',\n",
       " 'PROSTATEx/ProstateX-0165/04-03-2012-MR prostaat kanker detectie WDSmc MCAPRODETW-85793/55.000000-t2tsetra-05271',\n",
       " 'PROSTATEx/ProstateX-0079/08-04-2011-MR prostaat kanker detectie WDSmc MCAPRODETW-89140/4.000000-t2tsetra-51114',\n",
       " 'PROSTATEx/ProstateX-0079/08-04-2011-MR prostaat kanker detectie WDSmc MCAPRODETW-89140/6.000000-t2tsetra-45913',\n",
       " 'PROSTATEx/ProstateX-0316/03-24-2011-MC prostaat kliniek detectie-mc MCPROSKL30-13315/4.000000-t2tsetra-84491',\n",
       " 'PROSTATEx/ProstateX-0095/12-29-2011-MR prostaat kanker detectiemc MCAPRODET-31014/6.000000-t2tsetra-25856',\n",
       " 'PROSTATEx/ProstateX-0095/12-29-2011-MR prostaat kanker detectiemc MCAPRODET-31014/4.000000-t2tsetra-29213',\n",
       " 'PROSTATEx/ProstateX-0045/11-17-2011-MR prostaat kanker detectie WDSmc MCAPRODETW-17089/4.000000-t2tsetra-98907',\n",
       " 'PROSTATEx/ProstateX-0287/03-01-2011-MC prostaat kliniek detectie-mc MCPROSKL30-89187/5.000000-t2tsetra-31214',\n",
       " 'PROSTATEx/ProstateX-0195/06-04-2012-MC prostaat kliniek detectie-mc MCPROSKL30-15987/4.000000-t2tsetra-87564',\n",
       " 'PROSTATEx/ProstateX-0307/03-19-2011-MR prostaat kanker detectie WDSmc MCAPRODETW-68808/61.000000-t2tsetraS5ND-24412',\n",
       " 'PROSTATEx/ProstateX-0307/03-19-2011-MR prostaat kanker detectie WDSmc MCAPRODETW-68808/5.000000-t2tsetra-52900',\n",
       " 'PROSTATEx/ProstateX-0263/09-22-2011-MR prostaat kanker detectiemc MCAPRODET-12679/6.000000-t2tsetra-78599',\n",
       " 'PROSTATEx/ProstateX-0134/02-13-2012-MR prostaat kanker detectiemc MCAPRODET-67449/4.000000-t2tsetra-96443',\n",
       " 'PROSTATEx/ProstateX-0042/11-11-2011-MR prostaat kanker detectie WDSmc MCAPRODETW-82665/4.000000-t2tsetra-60576',\n",
       " 'PROSTATEx/ProstateX-0042/11-11-2011-MR prostaat kanker detectie WDSmc MCAPRODETW-82665/9.000000-t2tsetra-28074',\n",
       " 'PROSTATEx/ProstateX-0340/04-17-2011-MR prostaat kanker detectie WDSmc MCAPRODETW-20284/4.000000-t2tsetra-31986',\n",
       " 'PROSTATEx/ProstateX-0340/04-17-2011-MR prostaat kanker detectie WDSmc MCAPRODETW-20284/6.000000-t2tsetra-12043',\n",
       " 'PROSTATEx/ProstateX-0157/03-22-2012-MR prostaat kanker detectie WDSmc MCAPRODETW-58592/5.000000-t2tsetra-75191',\n",
       " 'PROSTATEx/ProstateX-0038/11-06-2011-MR prostaat kanker detectie WDSmc MCAPRODETW-17243/5.000000-t2tsetra-89518',\n",
       " 'PROSTATEx/ProstateX-0260/09-08-2011-MR prostaat kanker detectiemc MCAPRODET-55065/5.000000-t2tsetra-21372',\n",
       " 'PROSTATEx/ProstateX-0260/09-08-2011-MR prostaat kanker detectiemc MCAPRODET-55065/8.000000-t2tsetra-60277',\n",
       " 'PROSTATEx/ProstateX-0260/09-08-2011-MR prostaat kanker detectiemc MCAPRODET-55065/4.000000-t2tsetra-15302',\n",
       " 'PROSTATEx/ProstateX-0315/03-24-2011-MC prostaat kliniek detectie-mc MCPROSKL30-33455/4.000000-t2tsetra-94758',\n",
       " 'PROSTATEx/ProstateX-0052/11-21-2011-MR prostaat kanker detectie WDSmc MCAPRODETW-66473/6.000000-t2tsetra-38194',\n",
       " 'PROSTATEx/ProstateX-0052/11-21-2011-MR prostaat kanker detectie WDSmc MCAPRODETW-66473/4.000000-t2tsetra-53184',\n",
       " 'PROSTATEx/ProstateX-0329/04-09-2011-MR prostaat kanker detectie WDSmc MCAPRODETW-52447/4.000000-t2tsetra-52250',\n",
       " 'PROSTATEx/ProstateX-0329/04-09-2011-MR prostaat kanker detectie WDSmc MCAPRODETW-52447/10.000000-t2tsetra-27942',\n",
       " 'PROSTATEx/ProstateX-0246/07-01-2011-MR prostaat kanker detectiemc MCAPRODET-50432/4.000000-t2tsetra-34059',\n",
       " 'PROSTATEx/ProstateX-0261/09-15-2011-MR prostaat kanker detectiemc MCAPRODET-29951/4.000000-t2tsetra-68911',\n",
       " 'PROSTATEx/ProstateX-0261/09-15-2011-MR prostaat kanker detectiemc MCAPRODET-29951/6.000000-t2tsetra-63626',\n",
       " 'PROSTATEx/ProstateX-0066/12-04-2011-MC prostaat kliniek detectie-mc MCPROSKL30-20109/4.000000-t2tsetra-50239',\n",
       " 'PROSTATEx/ProstateX-0336/04-16-2011-MR prostaat kanker detectie WDSmc MCAPRODETW-04778/4.000000-t2tsetra-38602',\n",
       " 'PROSTATEx/ProstateX-0292/03-02-2011-MR prostaat kanker detectie WDSmc MCAPRODETW-63620/4.000000-t2tsetra-92571',\n",
       " 'PROSTATEx/ProstateX-0180/05-10-2012-MR prostaat kanker detectiemc MCAPRODET-48105/4.000000-t2tsetra-98795',\n",
       " 'PROSTATEx/ProstateX-0343/04-20-2011-MR prostaat kanker detectie WDSmc MCAPRODETW-33141/4.000000-t2tsetra-13458',\n",
       " 'PROSTATEx/ProstateX-0162/03-30-2012-MR prostaat kanker detectie WDSmc MCAPRODETW-76630/5.000000-t2tsetra-06154',\n",
       " 'PROSTATEx/ProstateX-0009/10-21-2011-MR prostaat kanker detectiemc MCAPRODET-97608/4.000000-t2tsetra-61765',\n",
       " 'PROSTATEx/ProstateX-0127/02-08-2012-MR prostaat kanker detectie WDSmc MCAPRODETW-11572/4.000000-t2tsetra-65367',\n",
       " 'PROSTATEx/ProstateX-0059/11-24-2011-MR prostaat kanker detectie NDmc MCAPRODETN-29081/4.000000-t2tsetra-40278',\n",
       " 'PROSTATEx/ProstateX-0096/01-01-2012-MR prostaat kanker detectie WDSmc MCAPRODETW-54793/4.000000-t2tsetra-62750',\n",
       " 'PROSTATEx/ProstateX-0319/03-27-2011-MR prostaat kanker detectie WDSmc MCAPRODETW-85460/4.000000-t2tsetra-72519',\n",
       " 'PROSTATEx/ProstateX-0034/11-02-2011-MR prostaat kanker detectiemc MCAPRODET-49088/9.000000-t2tsetra-74578',\n",
       " 'PROSTATEx/ProstateX-0034/11-02-2011-MR prostaat kanker detectiemc MCAPRODET-49088/5.000000-t2tsetra-08573',\n",
       " 'PROSTATEx/ProstateX-0115/01-18-2012-MR prostaat kanker detectie WDSmc MCAPRODETW-46971/4.000000-t2tsetra-36588',\n",
       " 'PROSTATEx/ProstateX-0189/05-26-2012-MR prostaat kanker detectie WDSmc MCAPRODETW-56618/4.000000-t2tsetra-09288',\n",
       " 'PROSTATEx/ProstateX-0254/08-18-2011-MR prostaat kanker detectiemc MCAPRODET-89548/4.000000-t2tsetra-59094',\n",
       " 'PROSTATEx/ProstateX-0114/01-16-2012-MC prostaat kliniek detectie-mc MCPROSKL30-77806/9.000000-t2tsetra-87268',\n",
       " 'PROSTATEx/ProstateX-0114/01-16-2012-MC prostaat kliniek detectie-mc MCPROSKL30-77806/4.000000-t2tsetra-64960',\n",
       " 'PROSTATEx/ProstateX-0055/11-23-2011-MR prostaat kanker detectie WDSmc MCAPRODETW-68376/4.000000-t2tsetra-01819',\n",
       " 'PROSTATEx/ProstateX-0187/05-25-2012-MR prostaat kanker detectie WDSmc MCAPRODETW-66662/4.000000-t2tsetra-67369',\n",
       " 'PROSTATEx/ProstateX-0210/12-21-2011-MR prostaat kanker detectie WDSmc MCAPRODETW-83871/55.000000-t2tsetra-14147',\n",
       " 'PROSTATEx/ProstateX-0210/12-21-2011-MR prostaat kanker detectie WDSmc MCAPRODETW-83871/5.000000-t2tsetra-24060',\n",
       " 'PROSTATEx/ProstateX-0282/02-26-2011-MR prostaat kanker detectie WDSmc MCAPRODETW-51431/6.000000-t2tsetra-41527',\n",
       " 'PROSTATEx/ProstateX-0190/05-29-2012-MR prostaat kanker detectie WDSmc MCAPRODETW-40540/4.000000-t2tsetra-82713',\n",
       " 'PROSTATEx/ProstateX-0049/11-21-2011-MC prostaat kliniek detectie-mc MCPROSKL30-16605/4.000000-t2tsetra-08778',\n",
       " 'PROSTATEx/ProstateX-0302/01-12-2011-MC prostaat kliniek detectie-mc MCPROSKL30-06726/5.000000-t2tsetra-70968',\n",
       " 'PROSTATEx/ProstateX-0063/12-01-2011-MR prostaat kanker detectie WDSmc MCAPRODETW-28694/6.000000-t2tsetra-38195',\n",
       " 'PROSTATEx/ProstateX-0014/10-24-2011-MC prostaat kliniek detectie-mc MCPROSKL30-99246/4.000000-t2tsetra-13100',\n",
       " 'PROSTATEx/ProstateX-0170/04-06-2012-MR prostaat kanker detectie WDSmc MCAPRODETW-05776/5.000000-t2tsetra-86613',\n",
       " 'PROSTATEx/ProstateX-0174/04-20-2012-MR prostaat kanker detectie WDSmc MCAPRODETW-23548/4.000000-t2tsetra-54225',\n",
       " 'PROSTATEx/ProstateX-0131/02-12-2012-MR prostaat kanker detectie WDSmc MCAPRODETW-33034/4.000000-t2tsetra-47327',\n",
       " 'PROSTATEx/ProstateX-0073/12-12-2011-MR prostaat kanker detectie WDSmc MCAPRODETW-63703/4.000000-t2tsetra-83539',\n",
       " 'PROSTATEx/ProstateX-0200/08-12-2011-MR prostaat kanker detectie NDmc MCAPRODETN-92744/5.000000-t2tsetra-48364',\n",
       " 'PROSTATEx/ProstateX-0200/08-12-2011-MR prostaat kanker detectie NDmc MCAPRODETN-92744/7.000000-t2tsetra-76372',\n",
       " 'PROSTATEx/ProstateX-0006/10-21-2011-MR prostaat kanker detectie NDmc MCAPRODETN-79408/4.000000-t2tsetra-98209',\n",
       " 'PROSTATEx/ProstateX-0106/01-12-2012-MR prostaat kanker detectiemc MCAPRODET-58881/5.000000-t2tsetra-03432',\n",
       " 'PROSTATEx/ProstateX-0258/08-31-2011-MR prostaat kanker detectie WDSmc MCAPRODETW-86507/9.000000-t2tsetra-77782',\n",
       " 'PROSTATEx/ProstateX-0108/01-15-2012-MC prostaat kliniek detectie-mc MCPROSKL30-72002/4.000000-t2tsetra-10739',\n",
       " 'PROSTATEx/ProstateX-0262/09-15-2011-MR prostaat kanker detectiemc MCAPRODET-63119/5.000000-t2tsetra-27478',\n",
       " 'PROSTATEx/ProstateX-0253/08-17-2011-MR prostaat kanker detectie WDSmc MCAPRODETW-93303/5.000000-t2tsetra-66545',\n",
       " 'PROSTATEx/ProstateX-0102/01-05-2012-MR prostaat kanker detectiemc MCAPRODET-80288/5.000000-t2tsetra-20088',\n",
       " 'PROSTATEx/ProstateX-0102/01-05-2012-MR prostaat kanker detectiemc MCAPRODET-80288/9.000000-t2tsetra-45733',\n",
       " 'PROSTATEx/ProstateX-0013/07-15-2011-MR prostaat kanker detectie WDSmc MCAPRODETW-71547/4.000000-t2tsetra-11799',\n",
       " 'PROSTATEx/ProstateX-0027/10-28-2011-MR prostaat kanker detectie NDmc MCAPRODETN-35489/4.000000-t2tsetra-30331',\n",
       " 'PROSTATEx/ProstateX-0124/08-09-2011-MC prostaat kliniek detectie-mc MCPROSKL30-33081/5.000000-t2tsetra-34670',\n",
       " 'PROSTATEx/ProstateX-0101/08-08-2011-MR prostaat kanker detectiemc MCAPRODET-88565/4.000000-t2tsetra-23224',\n",
       " 'PROSTATEx/ProstateX-0101/08-08-2011-MR prostaat kanker detectiemc MCAPRODET-88565/6.000000-t2tsetra-14688',\n",
       " 'PROSTATEx/ProstateX-0137/02-16-2012-MR prostaat kanker detectie WDSmc MCAPRODETW-27584/4.000000-t2tsetra-09869',\n",
       " 'PROSTATEx/ProstateX-0171/04-06-2012-MR prostaat kanker detectie WDSmc MCAPRODETW-01355/6.000000-t2tsetra-65300',\n",
       " 'PROSTATEx/ProstateX-0171/04-06-2012-MR prostaat kanker detectie WDSmc MCAPRODETW-01355/4.000000-t2tsetra-57019',\n",
       " 'PROSTATEx/ProstateX-0234/02-16-2011-MR prostaat kanker detectiemc MCAPRODET-42351/5.000000-t2tsetra-31047',\n",
       " 'PROSTATEx/ProstateX-0234/02-16-2011-MR prostaat kanker detectiemc MCAPRODET-42351/7.000000-t2tsetra-99562',\n",
       " 'PROSTATEx/ProstateX-0317/03-26-2011-MR prostaat kanker detectie WDSmc MCAPRODETW-49277/5.000000-t2tsetra-72041',\n",
       " 'PROSTATEx/ProstateX-0054/11-23-2011-MR prostaat kanker detectiemc MCAPRODET-22443/13.000000-t2tsetra-50536',\n",
       " 'PROSTATEx/ProstateX-0054/11-23-2011-MR prostaat kanker detectiemc MCAPRODET-22443/8.000000-t2tsetra-63188',\n",
       " 'PROSTATEx/ProstateX-0280/01-11-2011-MC prostaat kliniek detectie-mc MCPROSKL30-00485/4.000000-t2tsetra-79249',\n",
       " 'PROSTATEx/ProstateX-0326/04-03-2011-MR prostaat kanker detectie WDSmc MCAPRODETW-79519/4.000000-t2tsetra-66374',\n",
       " 'PROSTATEx/ProstateX-0326/04-03-2011-MR prostaat kanker detectie WDSmc MCAPRODETW-79519/9.000000-t2tsetra-54689',\n",
       " 'PROSTATEx/ProstateX-0237/05-21-2011-MR prostaat kanker detectiemc MCAPRODET-58025/4.000000-t2tsetra-29046',\n",
       " 'PROSTATEx/ProstateX-0219/03-03-2011-MR prostaat kanker detectie WDSmc MCAPRODETW-65059/4.000000-t2tsetra-53749',\n",
       " 'PROSTATEx/ProstateX-0344/04-20-2011-MC prostaat kliniek detectie-mc MCPROSKL30-86954/4.000000-t2tsetra-47858',\n",
       " 'PROSTATEx/ProstateX-0125/01-31-2012-MR prostaat kanker detectiemc MCAPRODET-62494/6.000000-t2tsetra-51046',\n",
       " 'PROSTATEx/ProstateX-0125/01-31-2012-MR prostaat kanker detectiemc MCAPRODET-62494/8.000000-t2tsetra-03696',\n",
       " 'PROSTATEx/ProstateX-0286/02-27-2011-MR prostaat kanker detectie WDSmc MCAPRODETW-47433/4.000000-t2tsetra-81339',\n",
       " 'PROSTATEx/ProstateX-0248/07-27-2011-MC prostaat kliniek detectie-mc MCPROSKL30-08727/5.000000-t2tsetra-33473',\n",
       " 'PROSTATEx/ProstateX-0225/03-21-2011-MR prostaat kanker detectiemc MCAPRODET-09558/4.000000-t2tsetra-88791',\n",
       " 'PROSTATEx/ProstateX-0098/01-01-2012-MR prostaat kanker detectie WDSmc MCAPRODETW-15577/9.000000-t2tsetra-19478',\n",
       " 'PROSTATEx/ProstateX-0098/01-01-2012-MR prostaat kanker detectie WDSmc MCAPRODETW-15577/4.000000-t2tsetra-97249',\n",
       " 'PROSTATEx/ProstateX-0339/04-17-2011-MR prostaat kanker detectie WDSmc MCAPRODETW-76424/4.000000-t2tsetra-20888',\n",
       " 'PROSTATEx/ProstateX-0151/03-18-2012-MC prostaat kliniek detectie-mc MCPROSKL30-94797/5.000000-t2tsetra-96224',\n",
       " 'PROSTATEx/ProstateX-0161/03-27-2012-MR prostaat kanker detectie WDSmc MCAPRODETW-25904/4.000000-t2tsetra-42619',\n",
       " 'PROSTATEx/ProstateX-0295/03-05-2011-MR prostaat kanker detectie WDSmc MCAPRODETW-15662/4.000000-t2tsetra-08326',\n",
       " 'PROSTATEx/ProstateX-0026/10-28-2011-MR prostaat kanker detectie WDSmc MCAPRODETW-20609/4.000000-t2tsetra-21032',\n",
       " 'PROSTATEx/ProstateX-0064/12-01-2011-MR prostaat kanker detectiemc MCAPRODET-29726/6.000000-t2tsetra-58659',\n",
       " 'PROSTATEx/ProstateX-0251/08-17-2011-MR prostaat kanker detectiemc MCAPRODET-78523/5.000000-t2tsetra-88042',\n",
       " 'PROSTATEx/ProstateX-0327/04-07-2011-MC prostaat kliniek detectie-mc MCPROSKL30-44972/4.000000-t2tsetra-01207',\n",
       " 'PROSTATEx/ProstateX-0138/02-20-2012-MR prostaat kanker detectie WDSmc MCAPRODETW-27839/4.000000-t2tsetra-38866',\n",
       " 'PROSTATEx/ProstateX-0032/11-02-2011-MR prostaat kanker detectie WDSmc MCAPRODETW-31792/5.000000-t2tsetra-68553',\n",
       " 'PROSTATEx/ProstateX-0032/11-02-2011-MR prostaat kanker detectie WDSmc MCAPRODETW-31792/55.000000-t2tsetraexactecopydiffusie-10087',\n",
       " 'PROSTATEx/ProstateX-0206/11-23-2011-MR prostaat kanker detectie WDSmc MCAPRODETW-94755/55.000000-t2tsetra-78842',\n",
       " 'PROSTATEx/ProstateX-0206/11-23-2011-MR prostaat kanker detectie WDSmc MCAPRODETW-94755/5.000000-t2tsetra-62930',\n",
       " 'PROSTATEx/ProstateX-0285/02-27-2011-MR prostaat kanker detectie WDSmc MCAPRODETW-98991/4.000000-t2tsetra-37806',\n",
       " 'PROSTATEx/ProstateX-0008/10-21-2011-MR prostaat kanker detectie WDSmc MCAPRODETW-64134/4.000000-t2tsetra-73777',\n",
       " 'PROSTATEx/ProstateX-0265/10-21-2011-MR prostaat kanker detectiemc MCAPRODET-87773/5.000000-t2tsetra-78829',\n",
       " 'PROSTATEx/ProstateX-0050/11-21-2011-MC prostaat kliniek detectie-mc MCPROSKL30-66000/5.000000-t2tsetra-81973',\n",
       " 'PROSTATEx/ProstateX-0183/05-18-2012-MR prostaat kanker detectie WDSmc MCAPRODETW-18429/4.000000-t2tsetra-23454',\n",
       " 'PROSTATEx/ProstateX-0314/03-23-2011-MR prostaat kanker detectie WDSmc MCAPRODETW-08642/4.000000-t2tsetra-31442',\n",
       " 'PROSTATEx/ProstateX-0068/08-01-2011-MC prostaat kliniek detectie-mc MCPROSKL30-39439/4.000000-t2tsetra-88897',\n",
       " 'PROSTATEx/ProstateX-0112/07-08-2011-MR prostaat kanker detectie WDSmc MCAPRODETW-24145/4.000000-t2tsetra-08507',\n",
       " 'PROSTATEx/ProstateX-0112/07-08-2011-MR prostaat kanker detectie WDSmc MCAPRODETW-24145/9.000000-t2tsetra-27393',\n",
       " 'PROSTATEx/ProstateX-0024/07-21-2011-MR prostaat kanker detectie WDSmc MCAPRODETW-57226/5.000000-t2tsetra-69485',\n",
       " 'PROSTATEx/ProstateX-0012/10-24-2011-MC prostaat kliniek detectie-mc MCPROSKL30-92047/4.000000-t2tsetra-09623',\n",
       " 'PROSTATEx/ProstateX-0153/03-19-2012-MR prostaat kanker detectie WDSmc MCAPRODETW-21853/60.000000-t2tsetra-85955',\n",
       " 'PROSTATEx/ProstateX-0153/03-19-2012-MR prostaat kanker detectie WDSmc MCAPRODETW-21853/4.000000-t2tsetra-60973',\n",
       " 'PROSTATEx/ProstateX-0220/03-03-2011-MR prostaat kanker detectiemc MCAPRODET-31041/9.000000-t2tsetra-58895',\n",
       " 'PROSTATEx/ProstateX-0220/03-03-2011-MR prostaat kanker detectiemc MCAPRODET-31041/4.000000-t2tsetra-11741',\n",
       " 'PROSTATEx/ProstateX-0123/01-30-2012-MR prostaat kanker detectie WDSmc MCAPRODETW-48265/5.000000-t2tsetra-18809',\n",
       " 'PROSTATEx/ProstateX-0123/01-30-2012-MR prostaat kanker detectie WDSmc MCAPRODETW-48265/10.000000-t2tsetra-21161',\n",
       " 'PROSTATEx/ProstateX-0067/12-06-2011-MR prostaat kanker detectie WDSmc MCAPRODETW-21123/4.000000-t2tsetra-83918',\n",
       " 'PROSTATEx/ProstateX-0003/10-17-2011-MC prostaat kliniek detectie-mc MCPROSKL30-03010/3.000000-t2tsetra-30967',\n",
       " 'PROSTATEx/ProstateX-0065/12-03-2011-MR prostaat kanker detectie WDSmc MCAPRODETW-67921/4.000000-t2tsetra-24671',\n",
       " 'PROSTATEx/ProstateX-0181/05-15-2012-MR prostaat kanker detectie WDSmc MCAPRODETW-57362/4.000000-t2tsetra-22004',\n",
       " 'PROSTATEx/ProstateX-0181/05-15-2012-MR prostaat kanker detectie WDSmc MCAPRODETW-57362/9.000000-t2tsetra-48063',\n",
       " 'PROSTATEx/ProstateX-0136/02-14-2012-MR prostaat kanker detectie WDSmc MCAPRODETW-93815/4.000000-t2tsetra-41889',\n",
       " 'PROSTATEx/ProstateX-0186/08-15-2011-MC prostaat kliniek detectie-mc MCPROSKL30-16410/5.000000-t2tsetra-30334',\n",
       " 'PROSTATEx/ProstateX-0186/08-15-2011-MC prostaat kliniek detectie-mc MCPROSKL30-16410/10.000000-t2tsetra-15751',\n",
       " 'PROSTATEx/ProstateX-0060/11-24-2011-MR prostaat kanker detectie WDSmc MCAPRODETW-89731/4.000000-t2tsetra-55272',\n",
       " 'PROSTATEx/ProstateX-0296/03-05-2011-MR prostaat kanker detectie WDSmc MCAPRODETW-52658/5.000000-t2tsetra-40856',\n",
       " 'PROSTATEx/ProstateX-0209/12-21-2011-MR prostaat kanker detectie WDSmc MCAPRODETW-52950/4.000000-t2tsetra-83197',\n",
       " 'PROSTATEx/ProstateX-0028/10-28-2011-MR prostaat kanker detectiemc MCAPRODET-58166/4.000000-t2tsetra-02026',\n",
       " 'PROSTATEx/ProstateX-0074/12-12-2011-MC prostaat kliniek detectie-mc MCPROSKL30-86139/11.000000-t2tsetra-19072',\n",
       " 'PROSTATEx/ProstateX-0074/12-12-2011-MC prostaat kliniek detectie-mc MCPROSKL30-86139/4.000000-t2tsetra-86431',\n",
       " 'PROSTATEx/ProstateX-0074/12-12-2011-MC prostaat kliniek detectie-mc MCPROSKL30-86139/9.000000-t2tsetra-69060',\n",
       " 'PROSTATEx/ProstateX-0212/12-24-2011-MR prostaat kanker detectiemc MCAPRODET-22467/4.000000-t2tsetra-95183',\n",
       " 'PROSTATEx/ProstateX-0310/03-20-2011-MR prostaat kanker detectie WDSmc MCAPRODETW-68755/5.000000-t2tsetra-24069',\n",
       " 'PROSTATEx/ProstateX-0293/03-03-2011-MR prostaat kanker detectie WDSmc MCAPRODETW-89487/5.000000-t2tsetra-30403',\n",
       " 'PROSTATEx/ProstateX-0272/12-14-2011-MR prostaat kanker detectiemc MCAPRODET-18619/6.000000-t2tsetra-29431',\n",
       " 'PROSTATEx/ProstateX-0272/12-14-2011-MR prostaat kanker detectiemc MCAPRODET-18619/4.000000-t2tsetra-03009',\n",
       " 'PROSTATEx/ProstateX-0092/12-26-2011-MC prostaat kliniek detectie-mc MCPROSKL30-35152/4.000000-t2tsetra-51217',\n",
       " 'PROSTATEx/ProstateX-0015/10-24-2011-MC prostaat kliniek detectie-mc MCPROSKL30-87015/4.000000-t2tsetra-75041',\n",
       " 'PROSTATEx/ProstateX-0155/03-22-2012-MR prostaat kanker detectie WDSmc MCAPRODETW-10987/4.000000-t2tsetra-95861',\n",
       " 'PROSTATEx/ProstateX-0155/03-22-2012-MR prostaat kanker detectie WDSmc MCAPRODETW-10987/6.000000-t2tsetra-32002',\n",
       " 'PROSTATEx/ProstateX-0051/11-21-2011-MC prostaat kliniek detectie-mc MCPROSKL30-80914/4.000000-t2tsetra-20345',\n",
       " 'PROSTATEx/ProstateX-0110/01-15-2012-MR prostaat kanker detectie WDSmc MCAPRODETW-01454/4.000000-t2tsetra-21466',\n",
       " 'PROSTATEx/ProstateX-0194/06-03-2012-MR prostaat kanker detectie WDSmc MCAPRODETW-38659/4.000000-t2tsetra-74399',\n",
       " 'PROSTATEx/ProstateX-0239/05-25-2011-MR prostaat kanker detectie WDSmc MCAPRODETW-38528/5.000000-t2tsetra-73634',\n",
       " 'PROSTATEx/ProstateX-0239/05-25-2011-MR prostaat kanker detectie WDSmc MCAPRODETW-38528/11.000000-t2tsetra-39171',\n",
       " 'PROSTATEx/ProstateX-0122/01-26-2012-MR prostaat kanker detectiemc MCAPRODET-28155/12.000000-t2tsetra-59150',\n",
       " 'PROSTATEx/ProstateX-0122/01-26-2012-MR prostaat kanker detectiemc MCAPRODET-28155/7.000000-t2tsetra-94033',\n",
       " 'PROSTATEx/ProstateX-0058/11-23-2011-MR prostaat kanker detectiemc MCAPRODET-73916/5.000000-t2tsetra-70665',\n",
       " 'PROSTATEx/ProstateX-0109/01-15-2012-MR prostaat kanker detectie WDSmc MCAPRODETW-03248/4.000000-t2tsetra-06498',\n",
       " 'PROSTATEx/ProstateX-0150/03-15-2012-MR prostaat kanker detectie WDSmc MCAPRODETW-08825/4.000000-t2tsetra-41386',\n",
       " 'PROSTATEx/ProstateX-0232/05-12-2011-MR prostaat kanker detectie WDSmc MCAPRODETW-39971/4.000000-t2tsetra-46450',\n",
       " 'PROSTATEx/ProstateX-0232/05-12-2011-MR prostaat kanker detectie WDSmc MCAPRODETW-39971/9.000000-t2tsetra-22970',\n",
       " 'PROSTATEx/ProstateX-0328/04-09-2011-MR prostaat kanker detectiemc MCAPRODET-94783/6.000000-t2tsetra-53019',\n",
       " 'PROSTATEx/ProstateX-0328/04-09-2011-MR prostaat kanker detectiemc MCAPRODET-94783/4.000000-t2tsetra-21491',\n",
       " 'PROSTATEx/ProstateX-0203/09-05-2011-MC prostaat kliniek detectie-mc MCPROSKL30-96714/4.000000-t2tsetra-70756',\n",
       " 'PROSTATEx/ProstateX-0044/11-14-2011-MC prostaat kliniek detectie-mc MCPROSKL30-92752/4.000000-t2tsetra-22636',\n",
       " 'PROSTATEx/ProstateX-0321/03-30-2011-MC prostaat kliniek detectie-mc MCPROSKL30-88966/4.000000-t2tsetra-72741',\n",
       " 'PROSTATEx/ProstateX-0313/01-14-2011-MR prostaat kanker detectiemc MCAPRODET-76116/4.000000-t2tsetra-78013',\n",
       " 'PROSTATEx/ProstateX-0313/01-14-2011-MR prostaat kanker detectiemc MCAPRODET-76116/6.000000-t2tsetra-49638',\n",
       " 'PROSTATEx/ProstateX-0152/03-18-2012-MC prostaat kliniek detectie-mc MCPROSKL30-19277/9.000000-t2tsetra-93280',\n",
       " 'PROSTATEx/ProstateX-0152/03-18-2012-MC prostaat kliniek detectie-mc MCPROSKL30-19277/4.000000-t2tsetra-41517',\n",
       " 'PROSTATEx/ProstateX-0023/10-27-2011-MR prostaat kanker detectiemc MCAPRODET-78620/4.000000-t2tsetra-09588',\n",
       " 'PROSTATEx/ProstateX-0184/05-21-2012-MC prostaat kliniek detectie-mc MCPROSKL30-15016/4.000000-t2tsetra-53679',\n",
       " 'PROSTATEx/ProstateX-0078/12-15-2011-MR prostaat kanker detectie WDSmc MCAPRODETW-56699/4.000000-t2tsetra-08660',\n",
       " 'PROSTATEx/ProstateX-0025/10-28-2011-MR prostaat kanker detectie WDSmc MCAPRODETW-19047/4.000000-t2tsetra-80161',\n",
       " 'PROSTATEx/ProstateX-0025/04-15-2012-MR prostaat kanker detectie WDSmc MCAPRODETW-94584/4.000000-t2tsetra-10038',\n",
       " 'PROSTATEx/ProstateX-0208/12-17-2011-MR prostaat kanker detectie NDmc MCAPRODETN-19074/5.000000-t2tsetra-14192',\n",
       " 'PROSTATEx/ProstateX-0208/12-17-2011-MR prostaat kanker detectie NDmc MCAPRODETN-19074/9.000000-t2tsetra-87185',\n",
       " 'PROSTATEx/ProstateX-0020/10-27-2011-MR prostaat kanker detectie WDSmc MCAPRODETW-36186/5.000000-t2tsetra-53903',\n",
       " 'PROSTATEx/ProstateX-0007/10-21-2011-MR prostaat kanker detectie WDSmc MCAPRODETW-12287/4.000000-t2tsetra-39325',\n",
       " 'PROSTATEx/ProstateX-0227/04-27-2011-MC prostaat kliniek detectie-mc MCPROSKL30-44476/3.000000-t2tsetra-22458',\n",
       " 'PROSTATEx/ProstateX-0227/04-27-2011-MC prostaat kliniek detectie-mc MCPROSKL30-44476/5.000000-t2tsetra-38188',\n",
       " 'PROSTATEx/ProstateX-0094/12-29-2011-MR prostaat kanker detectie WDSmc MCAPRODETW-46132/4.000000-t2tsetra-88527',\n",
       " 'PROSTATEx/ProstateX-0238/05-24-2011-MC prostaat kliniek detectie-mc MCPROSKL30-23051/5.000000-t2tsetra-33105',\n",
       " 'PROSTATEx/ProstateX-0080/12-15-2011-MR prostaat kanker detectie WDSmc MCAPRODETW-45203/4.000000-t2tsetra-34290',\n",
       " 'PROSTATEx/ProstateX-0082/12-18-2011-MR prostaat kanker detectie WDSmc MCAPRODETW-39745/4.000000-t2tsetra-77219',\n",
       " 'PROSTATEx/ProstateX-0172/04-09-2012-MC prostaat kliniek detectie-mc MCPROSKL30-44897/4.000000-t2tsetra-36757',\n",
       " 'PROSTATEx/ProstateX-0306/03-16-2011-MC prostaat kliniek detectie-mc MCPROSKL30-20720/4.000000-t2tsetra-80196',\n",
       " 'PROSTATEx/ProstateX-0274/12-22-2011-MR prostaat kanker detectiemc MCAPRODET-94489/5.000000-t2tsetra-57899',\n",
       " 'PROSTATEx/ProstateX-0021/10-27-2011-MR prostaat kanker detectie WDSmc MCAPRODETW-67856/4.000000-t2tsetra-08457',\n",
       " 'PROSTATEx/ProstateX-0177/08-11-2011-MR prostaat kanker detectiemc MCAPRODET-34776/4.000000-t2tsetra-69815',\n",
       " 'PROSTATEx/ProstateX-0330/04-09-2011-MR prostaat kanker detectiemc MCAPRODET-87290/5.000000-t2tsetra-07961',\n",
       " 'PROSTATEx/ProstateX-0099/01-02-2012-MR prostaat kanker detectiemc MCAPRODET-54794/9.000000-t2tsetra-56098',\n",
       " 'PROSTATEx/ProstateX-0099/01-02-2012-MR prostaat kanker detectiemc MCAPRODET-54794/5.000000-t2tsetra-34940',\n",
       " 'PROSTATEx/ProstateX-0205/04-16-2012-MC prostaat kliniek detectie-mc MCPROSKL30-42886/4.000000-t2tsetra-62240',\n",
       " 'PROSTATEx/ProstateX-0043/11-13-2011-MR prostaat kanker detectie WDSmc MCAPRODETW-52780/4.000000-t2tsetra-45630',\n",
       " 'PROSTATEx/ProstateX-0240/05-26-2011-MR prostaat kanker detectiemc MCAPRODET-94645/4.000000-t2tsetra-66792',\n",
       " 'PROSTATEx/ProstateX-0075/12-12-2011-MC prostaat kliniek detectie-mc MCPROSKL30-77411/4.000000-t2tsetra-15845',\n",
       " 'PROSTATEx/ProstateX-0090/08-04-2011-MR prostaat kanker detectie WDSmc MCAPRODETW-62837/4.000000-t2tsetra-88043',\n",
       " 'PROSTATEx/ProstateX-0267/02-19-2011-MR prostaat kanker detectie WDSmc MCAPRODETW-54496/4.000000-t2tsetra-80298',\n",
       " 'PROSTATEx/ProstateX-0062/11-30-2011-MR prostaat kanker detectiemc MCAPRODET-69179/5.000000-t2tsetra-70942',\n",
       " 'PROSTATEx/ProstateX-0119/01-22-2012-MC prostaat kliniek detectie-mc MCPROSKL30-91129/5.000000-t2tsetra-31393',\n",
       " 'PROSTATEx/ProstateX-0320/03-27-2011-MR prostaat kanker detectie WDSmc MCAPRODETW-32497/4.000000-t2tsetra-85012',\n",
       " 'PROSTATEx/ProstateX-0005/10-20-2011-MR prostaat kanker detectie WDSmc MCAPRODETW-27822/4.000000-t2tsetra-91330',\n",
       " 'PROSTATEx/ProstateX-0185/05-22-2012-MR prostaat kanker detectie WDSmc MCAPRODETW-55377/9.000000-t2tsetra-11409',\n",
       " 'PROSTATEx/ProstateX-0185/05-22-2012-MR prostaat kanker detectie WDSmc MCAPRODETW-55377/5.000000-t2tsetra-54929',\n",
       " 'PROSTATEx/ProstateX-0113/08-09-2011-MC prostaat kliniek detectie-mc MCPROSKL30-30871/6.000000-t2tsetra-56003',\n",
       " 'PROSTATEx/ProstateX-0113/08-09-2011-MC prostaat kliniek detectie-mc MCPROSKL30-30871/8.000000-t2tsetra-98073',\n",
       " 'PROSTATEx/ProstateX-0188/05-25-2012-MR prostaat kanker detectiemc MCAPRODET-95578/4.000000-t2tsetra-56177',\n",
       " 'PROSTATEx/ProstateX-0048/11-17-2011-MR prostaat kanker detectie WDSmc MCAPRODETW-66966/4.000000-t2tsetra-60872',\n",
       " 'PROSTATEx/ProstateX-0010/10-21-2011-MR prostaat kanker detectiemc MCAPRODET-48918/4.000000-t2tsetra-15389',\n",
       " 'PROSTATEx/ProstateX-0010/10-21-2011-MR prostaat kanker detectiemc MCAPRODET-48918/6.000000-t2tsetra-07664',\n",
       " 'PROSTATEx/ProstateX-0207/12-10-2011-MR prostaat kanker detectiemc MCAPRODET-97922/4.000000-t2tsetra-45322',\n",
       " 'PROSTATEx/ProstateX-0207/12-10-2011-MR prostaat kanker detectiemc MCAPRODET-97922/6.000000-t2tsetra-34421',\n",
       " 'PROSTATEx/ProstateX-0298/03-08-2011-MR prostaat kanker detectiemc MCAPRODET-69513/5.000000-t2tsetra-30636',\n",
       " 'PROSTATEx/ProstateX-0298/03-08-2011-MR prostaat kanker detectiemc MCAPRODET-69513/4.000000-t2tsetra-02946',\n",
       " 'PROSTATEx/ProstateX-0018/10-25-2011-MC prostaat kliniek detectie-mc MCPROSKL30-30230/5.000000-t2tsetra-24568',\n",
       " 'PROSTATEx/ProstateX-0033/11-02-2011-MR prostaat kanker detectie WDSmc MCAPRODETW-96363/5.000000-t2tsetra-29650',\n",
       " 'PROSTATEx/ProstateX-0164/04-02-2012-MC prostaat kliniek detectie-mc MCPROSKL30-14959/5.000000-t2tsetra-03926',\n",
       " 'PROSTATEx/ProstateX-0217/02-12-2011-MR prostaat kanker detectie WDSmc MCAPRODETW-60214/4.000000-t2tsetra-95183',\n",
       " 'PROSTATEx/ProstateX-0036/11-02-2011-MR prostaat kanker detectie WDSmc MCAPRODETW-44086/4.000000-t2tsetra-80824',\n",
       " 'PROSTATEx/ProstateX-0242/06-04-2011-MR prostaat kanker detectiemc MCAPRODET-64655/4.000000-t2tsetra-84443',\n",
       " 'PROSTATEx/ProstateX-0000/07-07-2011-MR prostaat kanker detectie WDSmc MCAPRODETW-05711/4.000000-t2tsetra-00702',\n",
       " 'PROSTATEx/ProstateX-0173/04-19-2012-MR prostaat kanker detectie WDSmc MCAPRODETW-94885/57.000000-t2tsetra-46063',\n",
       " 'PROSTATEx/ProstateX-0173/04-19-2012-MR prostaat kanker detectie WDSmc MCAPRODETW-94885/5.000000-t2tsetra-72186',\n",
       " 'PROSTATEx/ProstateX-0173/04-19-2012-MR prostaat kanker detectie WDSmc MCAPRODETW-94885/9.000000-t2tsetra-09122',\n",
       " 'PROSTATEx/ProstateX-0303/03-11-2011-MR prostaat kanker detectiemc MCAPRODET-71098/5.000000-t2tsetra-40860',\n",
       " 'PROSTATEx/ProstateX-0089/12-26-2011-MC prostaat kliniek detectie-mc MCPROSKL30-11052/4.000000-t2tsetra-69832',\n",
       " 'PROSTATEx/ProstateX-0241/05-29-2011-MR prostaat kanker detectiemc MCAPRODET-18729/4.000000-t2tsetra-45296',\n",
       " 'PROSTATEx/ProstateX-0299/03-08-2011-MR prostaat kanker detectie WDSmc MCAPRODETW-30592/4.000000-t2tsetra-63750',\n",
       " 'PROSTATEx/ProstateX-0030/10-30-2011-MC prostaat kliniek detectie-mc MCPROSKL30-54485/4.000000-t2tsetra-91014',\n",
       " 'PROSTATEx/ProstateX-0133/02-13-2012-MR prostaat kanker detectiemc MCAPRODET-97503/4.000000-t2tsetra-96021',\n",
       " 'PROSTATEx/ProstateX-0147/03-11-2012-MC prostaat kliniek detectie-mc MCPROSKL30-04995/4.000000-t2tsetra-62860',\n",
       " 'PROSTATEx/ProstateX-0147/03-11-2012-MC prostaat kliniek detectie-mc MCPROSKL30-04995/9.000000-t2tsetra-48099',\n",
       " 'PROSTATEx/ProstateX-0230/05-03-2011-MR prostaat kanker detectiemc MCAPRODET-36490/4.000000-t2tsetra-87172',\n",
       " 'PROSTATEx/ProstateX-0337/04-16-2011-MR prostaat kanker detectiemc MCAPRODET-83922/5.000000-t2tsetra-41999',\n",
       " 'PROSTATEx/ProstateX-0257/08-18-2011-MR prostaat kanker detectiemc MCAPRODET-61099/4.000000-t2tsetra-54185',\n",
       " 'PROSTATEx/ProstateX-0156/08-11-2011-MR prostaat kanker detectie WDSmc MCAPRODETW-82219/4.000000-t2tsetra-26985',\n",
       " 'PROSTATEx/ProstateX-0100/01-05-2012-MR prostaat kanker detectie WDSmc MCAPRODETW-37915/6.000000-t2tsetra-87309',\n",
       " 'PROSTATEx/ProstateX-0213/12-25-2011-MR prostaat kanker detectie WDSmc MCAPRODETW-56457/4.000000-t2tsetra-39203',\n",
       " 'PROSTATEx/ProstateX-0213/12-25-2011-MR prostaat kanker detectie WDSmc MCAPRODETW-56457/6.000000-t2tsetra-25226',\n",
       " 'PROSTATEx/ProstateX-0332/04-09-2011-MR prostaat kanker detectie WDSmc MCAPRODETW-81349/4.000000-t2tsetra-22083',\n",
       " 'PROSTATEx/ProstateX-0132/02-12-2012-MC prostaat kliniek detectie-mc MCPROSKL30-89074/5.000000-t2tsetra-05436',\n",
       " 'PROSTATEx/ProstateX-0132/02-12-2012-MC prostaat kliniek detectie-mc MCPROSKL30-89074/9.000000-t2tsetra-42986',\n",
       " 'PROSTATEx/ProstateX-0309/03-20-2011-MR prostaat kanker detectiemc MCAPRODET-73562/4.000000-t2tsetra-50005',\n",
       " 'PROSTATEx/ProstateX-0277/02-22-2011-MC prostaat kliniek detectie-mc MCPROSKL30-05528/4.000000-t2tsetra-04399',\n",
       " 'PROSTATEx/ProstateX-0243/06-04-2011-MR prostaat kanker detectiemc MCAPRODET-43455/9.000000-t2tsetra-55087',\n",
       " 'PROSTATEx/ProstateX-0243/06-04-2011-MR prostaat kanker detectiemc MCAPRODET-43455/4.000000-t2tsetra-11093',\n",
       " 'PROSTATEx/ProstateX-0017/10-25-2011-MC prostaat kliniek detectie-mc MCPROSKL30-38314/5.000000-t2tsetra-39653',\n",
       " 'PROSTATEx/ProstateX-0040/11-09-2011-MR prostaat kanker detectie WDSmc MCAPRODETW-09413/5.000000-t2tsetra-14576',\n",
       " 'PROSTATEx/ProstateX-0342/04-17-2011-MR prostaat kanker detectiemc MCAPRODET-13368/4.000000-t2tsetra-82748',\n",
       " 'PROSTATEx/ProstateX-0167/08-11-2011-MR prostaat kanker detectiemc MCAPRODET-03759/4.000000-t2tsetra-26050']"
      ]
     },
     "execution_count": 10,
     "metadata": {},
     "output_type": "execute_result"
    }
   ],
   "source": [
    "t2sag_folders"
   ]
  },
  {
   "cell_type": "code",
   "execution_count": 11,
   "metadata": {},
   "outputs": [
    {
     "data": {
      "text/plain": [
       "431"
      ]
     },
     "execution_count": 11,
     "metadata": {},
     "output_type": "execute_result"
    }
   ],
   "source": [
    "len(t2sag_folders)"
   ]
  },
  {
   "cell_type": "code",
   "execution_count": 12,
   "metadata": {},
   "outputs": [
    {
     "name": "stdout",
     "output_type": "stream",
     "text": [
      "Collecting pydicom\n",
      "  Downloading pydicom-2.4.4-py3-none-any.whl.metadata (7.8 kB)\n",
      "Downloading pydicom-2.4.4-py3-none-any.whl (1.8 MB)\n",
      "\u001b[2K   \u001b[90m━━━━━━━━━━━━━━━━━━━━━━━━━━━━━━━━━━━━━━━━\u001b[0m \u001b[32m1.8/1.8 MB\u001b[0m \u001b[31m13.6 MB/s\u001b[0m eta \u001b[36m0:00:00\u001b[0m00:01\u001b[0m00:01\u001b[0m\n",
      "\u001b[?25hInstalling collected packages: pydicom\n",
      "Successfully installed pydicom-2.4.4\n",
      "Note: you may need to restart the kernel to use updated packages.\n"
     ]
    }
   ],
   "source": [
    "pip install pydicom"
   ]
  },
  {
   "cell_type": "code",
   "execution_count": 13,
   "metadata": {},
   "outputs": [
    {
     "name": "stdout",
     "output_type": "stream",
     "text": [
      "\u001b[31mERROR: Could not find a version that satisfies the requirement pylab (from versions: none)\u001b[0m\u001b[31m\n",
      "\u001b[0m\u001b[31mERROR: No matching distribution found for pylab\u001b[0m\u001b[31m\n",
      "\u001b[0mNote: you may need to restart the kernel to use updated packages.\n"
     ]
    }
   ],
   "source": [
    "pip install pylab"
   ]
  },
  {
   "cell_type": "code",
   "execution_count": 14,
   "metadata": {},
   "outputs": [
    {
     "name": "stdout",
     "output_type": "stream",
     "text": [
      "Collecting pandas\n",
      "  Downloading pandas-2.2.0-cp312-cp312-manylinux_2_17_x86_64.manylinux2014_x86_64.whl.metadata (19 kB)\n",
      "Requirement already satisfied: numpy<2,>=1.26.0 in /home/kgupta/miniconda3/envs/kinml/lib/python3.12/site-packages (from pandas) (1.26.3)\n",
      "Requirement already satisfied: python-dateutil>=2.8.2 in /home/kgupta/miniconda3/envs/kinml/lib/python3.12/site-packages (from pandas) (2.8.2)\n",
      "Collecting pytz>=2020.1 (from pandas)\n",
      "  Downloading pytz-2024.1-py2.py3-none-any.whl.metadata (22 kB)\n",
      "Collecting tzdata>=2022.7 (from pandas)\n",
      "  Downloading tzdata-2024.1-py2.py3-none-any.whl.metadata (1.4 kB)\n",
      "Requirement already satisfied: six>=1.5 in /home/kgupta/miniconda3/envs/kinml/lib/python3.12/site-packages (from python-dateutil>=2.8.2->pandas) (1.16.0)\n",
      "Downloading pandas-2.2.0-cp312-cp312-manylinux_2_17_x86_64.manylinux2014_x86_64.whl (12.7 MB)\n",
      "\u001b[2K   \u001b[90m━━━━━━━━━━━━━━━━━━━━━━━━━━━━━━━━━━━━━━━━\u001b[0m \u001b[32m12.7/12.7 MB\u001b[0m \u001b[31m14.8 MB/s\u001b[0m eta \u001b[36m0:00:00\u001b[0m00:01\u001b[0m00:01\u001b[0m\n",
      "\u001b[?25hDownloading pytz-2024.1-py2.py3-none-any.whl (505 kB)\n",
      "\u001b[2K   \u001b[90m━━━━━━━━━━━━━━━━━━━━━━━━━━━━━━━━━━━━━━━━\u001b[0m \u001b[32m505.5/505.5 kB\u001b[0m \u001b[31m8.3 MB/s\u001b[0m eta \u001b[36m0:00:00\u001b[0m:00:01\u001b[0m\n",
      "\u001b[?25hDownloading tzdata-2024.1-py2.py3-none-any.whl (345 kB)\n",
      "\u001b[2K   \u001b[90m━━━━━━━━━━━━━━━━━━━━━━━━━━━━━━━━━━━━━━━━\u001b[0m \u001b[32m345.4/345.4 kB\u001b[0m \u001b[31m5.9 MB/s\u001b[0m eta \u001b[36m0:00:00\u001b[0m:00:01\u001b[0m\n",
      "\u001b[?25hInstalling collected packages: pytz, tzdata, pandas\n",
      "Successfully installed pandas-2.2.0 pytz-2024.1 tzdata-2024.1\n",
      "Note: you may need to restart the kernel to use updated packages.\n"
     ]
    }
   ],
   "source": [
    "pip install pandas\n"
   ]
  },
  {
   "cell_type": "code",
   "execution_count": 15,
   "metadata": {},
   "outputs": [
    {
     "name": "stderr",
     "output_type": "stream",
     "text": [
      "/tmp/ipykernel_73555/171486691.py:3: DeprecationWarning: \n",
      "Pyarrow will become a required dependency of pandas in the next major release of pandas (pandas 3.0),\n",
      "(to allow more performant data types, such as the Arrow string type, and better interoperability with other libraries)\n",
      "but was not found to be installed on your system.\n",
      "If this would cause problems for you,\n",
      "please provide us feedback at https://github.com/pandas-dev/pandas/issues/54466\n",
      "        \n",
      "  import pandas as pd\n"
     ]
    }
   ],
   "source": [
    "import pydicom as pyd\n",
    "import pylab\n",
    "import pandas as pd"
   ]
  },
  {
   "cell_type": "code",
   "execution_count": 66,
   "metadata": {},
   "outputs": [
    {
     "name": "stdout",
     "output_type": "stream",
     "text": [
      "C:/Users/akifg/Desktop/testing/lesions\\P0000009.dcm\n"
     ]
    },
    {
     "data": {
      "image/png": "[encoded data removed]",
      "text/plain": [
       "<Figure size 432x288 with 1 Axes>"
      ]
     },
     "metadata": {
      "needs_background": "light"
     },
     "output_type": "display_data"
    },
    {
     "name": "stdout",
     "output_type": "stream",
     "text": [
      "C:/Users/akifg/Desktop/testing/lesions\\P1000010.dcm\n"
     ]
    },
    {
     "data": {
      "image/png": "[encoded data removed]",
      "text/plain": [
       "<Figure size 432x288 with 1 Axes>"
      ]
     },
     "metadata": {
      "needs_background": "light"
     },
     "output_type": "display_data"
    },
    {
     "name": "stdout",
     "output_type": "stream",
     "text": [
      "C:/Users/akifg/Desktop/testing/lesions\\P10000010.dcm\n"
     ]
    },
    {
     "data": {
      "image/png": "[encoded data removed]",
      "text/plain": [
       "<Figure size 432x288 with 1 Axes>"
      ]
     },
     "metadata": {
      "needs_background": "light"
     },
     "output_type": "display_data"
    },
    {
     "name": "stdout",
     "output_type": "stream",
     "text": [
      "C:/Users/akifg/Desktop/testing/lesions\\P2000010.dcm\n"
     ]
    },
    {
     "data": {
      "image/png": "[encoded data removed]",
      "text/plain": [
       "<Figure size 432x288 with 1 Axes>"
      ]
     },
     "metadata": {
      "needs_background": "light"
     },
     "output_type": "display_data"
    },
    {
     "name": "stdout",
     "output_type": "stream",
     "text": [
      "C:/Users/akifg/Desktop/testing/lesions\\P2000012.dcm\n"
     ]
    },
    {
     "data": {
      "image/png": "[encoded data removed]",
      "text/plain": [
       "<Figure size 432x288 with 1 Axes>"
      ]
     },
     "metadata": {
      "needs_background": "light"
     },
     "output_type": "display_data"
    },
    {
     "name": "stdout",
     "output_type": "stream",
     "text": [
      "C:/Users/akifg/Desktop/testing/lesions\\P3000012.dcm\n"
     ]
    },
    {
     "data": {
      "image/png": "[encoded data removed]",
      "text/plain": [
       "<Figure size 432x288 with 1 Axes>"
      ]
     },
     "metadata": {
      "needs_background": "light"
     },
     "output_type": "display_data"
    },
    {
     "name": "stdout",
     "output_type": "stream",
     "text": [
      "C:/Users/akifg/Desktop/testing/lesions\\P3000017.dcm\n"
     ]
    },
    {
     "data": {
      "image/png": "[encoded data removed]",
      "text/plain": [
       "<Figure size 432x288 with 1 Axes>"
      ]
     },
     "metadata": {
      "needs_background": "light"
     },
     "output_type": "display_data"
    },
    {
     "name": "stdout",
     "output_type": "stream",
     "text": [
      "C:/Users/akifg/Desktop/testing/lesions\\P4000007.dcm\n"
     ]
    },
    {
     "data": {
      "image/png": "[encoded data removed]",
      "text/plain": [
       "<Figure size 432x288 with 1 Axes>"
      ]
     },
     "metadata": {
      "needs_background": "light"
     },
     "output_type": "display_data"
    },
    {
     "name": "stdout",
     "output_type": "stream",
     "text": [
      "C:/Users/akifg/Desktop/testing/lesions\\P5000010.dcm\n"
     ]
    },
    {
     "data": {
      "image/png": "[encoded data removed]",
      "text/plain": [
       "<Figure size 432x288 with 1 Axes>"
      ]
     },
     "metadata": {
      "needs_background": "light"
     },
     "output_type": "display_data"
    },
    {
     "name": "stdout",
     "output_type": "stream",
     "text": [
      "C:/Users/akifg/Desktop/testing/lesions\\P6000011.dcm\n"
     ]
    },
    {
     "data": {
      "image/png": "[encoded data removed]",
      "text/plain": [
       "<Figure size 432x288 with 1 Axes>"
      ]
     },
     "metadata": {
      "needs_background": "light"
     },
     "output_type": "display_data"
    },
    {
     "name": "stdout",
     "output_type": "stream",
     "text": [
      "C:/Users/akifg/Desktop/testing/lesions\\P6000015.dcm\n"
     ]
    },
    {
     "data": {
      "image/png": "[encoded data removed]",
      "text/plain": [
       "<Figure size 432x288 with 1 Axes>"
      ]
     },
     "metadata": {
      "needs_background": "light"
     },
     "output_type": "display_data"
    },
    {
     "name": "stdout",
     "output_type": "stream",
     "text": [
      "C:/Users/akifg/Desktop/testing/lesions\\P7000009.dcm\n"
     ]
    },
    {
     "data": {
      "image/png": "[encoded data removed]",
      "text/plain": [
       "<Figure size 432x288 with 1 Axes>"
      ]
     },
     "metadata": {
      "needs_background": "light"
     },
     "output_type": "display_data"
    },
    {
     "name": "stdout",
     "output_type": "stream",
     "text": [
      "C:/Users/akifg/Desktop/testing/lesions\\P8000012.dcm\n"
     ]
    },
    {
     "data": {
      "image/png": "[encoded data removed]",
      "text/plain": [
       "<Figure size 432x288 with 1 Axes>"
      ]
     },
     "metadata": {
      "needs_background": "light"
     },
     "output_type": "display_data"
    },
    {
     "name": "stdout",
     "output_type": "stream",
     "text": [
      "C:/Users/akifg/Desktop/testing/lesions\\P9000014.dcm\n"
     ]
    },
    {
     "data": {
      "image/png": "[encoded data removed]",
      "text/plain": [
       "<Figure size 432x288 with 1 Axes>"
      ]
     },
     "metadata": {
      "needs_background": "light"
     },
     "output_type": "display_data"
    }
   ],
   "source": [
    "import csv\n",
    "import pydicom as pyd\n",
    "import pylab\n",
    "import pandas as pd\n",
    "\n",
    "real_lab = pd.read_csv( 'ProstateX-Images-Train.csv') \n",
    "import os\n",
    "import re\n",
    "root = \"C:/Users/akifg/Desktop/testing/lesions\"\n",
    "#print(l)\n",
    "l = os.walk(root)\n",
    "t2sag_folders = [x[0] for x in os.walk(root)]\n",
    "#t2sag_folders = [x for x in folders_list if re.search('t2tsetra',x) ]\n",
    "#print(t2sag_folders)\n",
    "\n",
    "labels = []\n",
    "images = []\n",
    "j = 0\n",
    "\n",
    "\n",
    "for k in range(len(t2sag_folders)):\n",
    "    #print(t2sag_folders[k])\n",
    "    for filename in os.listdir(t2sag_folders[k]):\n",
    "        if \"dcm\" in filename:\n",
    "            print(t2sag_folders[k]+filename)\n",
    "       # print(os.path.join(sub_imgs_folders[0], img_files[k]))\n",
    "            ds=pyd.read_file(os.path.join(t2sag_folders[k], filename))#creating npy img_path array\n",
    "        \n",
    "        \n",
    "            img_tp = ds.pixel_array\n",
    "\n",
    "            h=150\n",
    "            w=150\n",
    "\n",
    "\n",
    "\n",
    "            x = int(384/2) - w/2\n",
    "            y = int(384/2) - h/2\n",
    "\n",
    "            crop_img = img_tp[50:300, 100:300]\n",
    "\n",
    "            im1 = cv2.resize(crop_img,(28,28))\n",
    "\n",
    "            plt.imshow(im1)\n",
    "            plt.show()\n",
    "\n",
    "        #gary2rgb = cv2.cvtColor(im1,cv2.COLOR_GRAY2RGB)\n",
    "        #im2 = np.transpose(im1, (2,0, 1))\n",
    "            images.append(im1) \n",
    "            labels.append(1)\n",
    "        \n",
    "        #if str(k) in ijk_k:\n",
    "         #   labels.append(1)\n",
    "        #else:\n",
    "        #    labels.append(0)\n",
    "    j+= len(labels_csv)\n",
    "\n",
    "labels = np.array(labels)\n",
    "images = np.array(images)\n",
    "np.save('D:/PROSTAT/TRAS/t2tras_imgs_test.npy', images)\n",
    "np.save('D:/PROSTAT/TRAS/t2tras_lbls_test.npy', labels) "
   ]
  },
  {
   "cell_type": "code",
   "execution_count": null,
   "metadata": {},
   "outputs": [],
   "source": [
    "real_lab.head()"
   ]
  },
  {
   "cell_type": "code",
   "execution_count": null,
   "metadata": {},
   "outputs": [],
   "source": [
    "t2_sag_lab= real_lab[(real_lab['Name'] == 'P')]"
   ]
  },
  {
   "cell_type": "code",
   "execution_count": null,
   "metadata": {},
   "outputs": [],
   "source": [
    "import csv\n",
    "import pydicom as pyd\n",
    "import pylab\n",
    "import pandas as pd\n",
    "#label selecting\n",
    "#with open('C:/Users/Akif/Desktop/ProstateX-Images-Train.csv', 'r') as file:\n",
    "real_lab   = pd.read_csv( 'C:/Users/akifg/ProstateX-Images-Train.csv') \n",
    "t2_sag_lab = real_lab[(real_lab['Name'] == 't2_tse_tra0')]\n",
    "\n",
    "import os\n",
    "import re\n",
    "#images selection\n",
    "root = \"D:\\PROSTAT\\PROSTATEx\"\n",
    "#l = os.walk(root)\n",
    "c = [x[0] for x in os.walk(root)]\n",
    "t2sag_imgs_folders = [x for x in folders_list if re.search('t2tsetra',x) ]\n",
    "\n",
    "\n",
    "      "
   ]
  },
  {
   "cell_type": "code",
   "execution_count": null,
   "metadata": {},
   "outputs": [],
   "source": [
    "t2_sag_lab"
   ]
  },
  {
   "cell_type": "code",
   "execution_count": null,
   "metadata": {},
   "outputs": [],
   "source": [
    "pip install opencv-python"
   ]
  },
  {
   "cell_type": "code",
   "execution_count": null,
   "metadata": {},
   "outputs": [],
   "source": [
    "#MAIN WORK\n",
    "import cv2\n",
    "import pylab\n",
    "import pandas as pd\n",
    "\n",
    "labels = []\n",
    "images = []\n",
    "j = 0\n",
    "while j < len(t2_sag_lab):\n",
    "    #if t2_sag_lab.iloc[i,0] in t2sec_imgs_folders[i]\n",
    "    #same patients\n",
    "    #labels_csv = t2_sag_lab[(t2_sag_lab['ProxID'] == t2_sag_lab.iloc[j,0])]\n",
    "    #get k's\n",
    "    #ijk_k = [labels_csv.iloc[k,5].split()[2] for k in range(len(labels_csv))]\n",
    "    #bridge connection\n",
    "    sub_imgs_folders = [x for x in t2sag_imgs_folders if re.search(t2_sag_lab.iloc[j,0],x)]\n",
    "    img_files = os.listdir(sub_imgs_folders[0])# list of file names of patient j\n",
    "    for k in range(len(img_files)):\n",
    "        print(os.path.join(sub_imgs_folders[0], img_files[k]))\n",
    "        ds=pyd.read_file(os.path.join(sub_imgs_folders[0], img_files[k]))#creating npy img_path array\n",
    "        \n",
    "        \n",
    "        img_tp = ds.pixel_array\n",
    "        \n",
    "        h=150\n",
    "        w=150\n",
    "        \n",
    "\n",
    "\n",
    "        x = int(384/2) - w/2\n",
    "        y = int(384/2) - h/2\n",
    "\n",
    "        crop_img = img_tp[50:300, 100:300]\n",
    "        \n",
    "        im1 = cv2.resize(crop_img,(28,28))\n",
    "        \n",
    "        plt.imshow(im1)\n",
    "        plt.show()\n",
    "\n",
    "        #gary2rgb = cv2.cvtColor(im1,cv2.COLOR_GRAY2RGB)\n",
    "        #im2 = np.transpose(im1, (2,0, 1))\n",
    "        images.append(im1) \n",
    "        labels.append(1)\n",
    "        \n",
    "        #if str(k) in ijk_k:\n",
    "         #   labels.append(1)\n",
    "        #else:\n",
    "        #    labels.append(0)\n",
    "    j+= len(labels_csv)\n",
    "\n",
    "labels = np.array(labels)\n",
    "images = np.array(images)\n",
    "\n",
    "np.save('D:/PROSTAT/TRAS/t2tras_imgs_test.npy', images)\n",
    "np.save('D:/PROSTAT/TRAS/t2tras_lbls_test.npy', labels) "
   ]
  },
  {
   "cell_type": "code",
   "execution_count": 10,
   "metadata": {},
   "outputs": [],
   "source": [
    "images = np.load('D:/PROSTAT/t2data/t2_images.npy')\n",
    "labels = np.load('D:/PROSTAT/t2data/t2_lbls.npy')"
   ]
  },
  {
   "cell_type": "code",
   "execution_count": 11,
   "metadata": {},
   "outputs": [
    {
     "data": {
      "text/plain": [
       "(11204, 28, 28)"
      ]
     },
     "execution_count": 11,
     "metadata": {},
     "output_type": "execute_result"
    }
   ],
   "source": [
    "np.shape(images)"
   ]
  },
  {
   "cell_type": "code",
   "execution_count": null,
   "metadata": {},
   "outputs": [],
   "source": []
  },
  {
   "cell_type": "code",
   "execution_count": 12,
   "metadata": {},
   "outputs": [
    {
     "data": {
      "text/plain": [
       "(11204, 28, 28)"
      ]
     },
     "execution_count": 12,
     "metadata": {},
     "output_type": "execute_result"
    }
   ],
   "source": [
    "np.shape(images)"
   ]
  },
  {
   "cell_type": "code",
   "execution_count": 15,
   "metadata": {},
   "outputs": [],
   "source": [
    "imaged = np.load('D:/PROSTAT/t2sag/t2sag_imgs.npy')\n",
    "labeld = np.load('D:/PROSTAT/t2sag/t2sag_lbls.npy')"
   ]
  },
  {
   "cell_type": "code",
   "execution_count": 14,
   "metadata": {},
   "outputs": [
    {
     "data": {
      "text/plain": [
       "(3902, 3, 224, 224)"
      ]
     },
     "execution_count": 14,
     "metadata": {},
     "output_type": "execute_result"
    }
   ],
   "source": [
    "np.shape(imaged)"
   ]
  },
  {
   "cell_type": "code",
   "execution_count": 16,
   "metadata": {},
   "outputs": [],
   "source": [
    "import torch\n",
    "import torch.nn as nn\n",
    "import torch.optim as optim\n",
    "from torch.utils.data import DataLoader, Dataset\n",
    "from torchvision import transforms\n",
    "from sklearn.model_selection import train_test_split\n",
    "import numpy as np\n",
    "\n",
    "# Load data\n",
    "data = imaged\n",
    "labels = labeld\n",
    "\n",
    "# Split data into train and test sets\n",
    "train_data, test_data, train_labels, test_labels = train_test_split(data, labels, test_size=0.2)\n",
    "\n",
    "# Define dataset class\n",
    "class ProstateDataset(Dataset):\n",
    "    def __init__(self, data, targets, transform=None):\n",
    "        self.data = data\n",
    "        self.targets = targets\n",
    "        self.transform = transform\n",
    "        \n",
    "    def __len__(self):\n",
    "        return len(self.data)\n",
    "    \n",
    "    def __getitem__(self, index):\n",
    "        x = self.data[index]\n",
    "        y = self.targets[index]\n",
    "        \n",
    "        if self.transform:\n",
    "            x = self.transform(x)\n",
    "            \n",
    "        return x, y\n",
    "\n",
    "# Define data transforms\n",
    "transform = transforms.Compose([\n",
    "    transforms.ToTensor(),\n",
    "    transforms.Normalize((0.5, 0.5, 0.5), (0.5, 0.5, 0.5))\n",
    "])\n",
    "\n",
    "# Create train and test datasets\n",
    "train_dataset = ProstateDataset(train_data, train_labels, transform=transform)\n",
    "test_dataset = ProstateDataset(test_data, test_labels, transform=transform)\n",
    "\n",
    "# Define data loaders\n",
    "train_loader = DataLoader(train_dataset, batch_size=64, shuffle=True)\n",
    "test_loader = DataLoader(test_dataset, batch_size=64, shuffle=False)\n",
    "\n",
    "# Define neural network model\n",
    "class ProstateModel(nn.Module):\n",
    "    def __init__(self):\n",
    "        super(ProstateModel, self).__init__()\n",
    "        self.conv1 = nn.Conv2d(3, 16, kernel_size=3, stride=1, padding=1)\n",
    "        self.bn1 = nn.BatchNorm2d(16)\n",
    "        self.relu1 = nn.ReLU()\n",
    "        self.pool1 = nn.MaxPool2d(kernel_size=2)\n",
    "        self.conv2 = nn.Conv2d(16, 32, kernel_size=3, stride=1, padding=1)\n",
    "        self.bn2 = nn.BatchNorm2d(32)\n",
    "        self.relu2 = nn.ReLU()\n",
    "        self.pool2 = nn.MaxPool2d(kernel_size=2)\n",
    "        self.conv3 = nn.Conv2d(32, 64, kernel_size=3, stride=1, padding=1)\n",
    "        self.bn3 = nn.BatchNorm2d(64)\n",
    "        self.relu3 = nn.ReLU()\n",
    "        self.pool3 = nn.MaxPool2d(kernel_size=2)\n",
    "        self.fc1 = nn.Linear(64 * 28 * 28, 128)\n",
    "        self.dropout = nn.Dropout(0.5)\n",
    "        self.fc2 = nn.Linear(128, 2)\n",
    "        \n",
    "    def forward(self, x):\n",
    "        x = self.conv1(x)\n",
    "        x = self.bn1(x)\n",
    "        x = self.relu1(x)\n",
    "        x = self.pool1(x)\n",
    "        x = self.conv2(x)\n",
    "        x = self.bn2(x)\n",
    "        x = self.relu2(x)\n",
    "        x = self.pool2(x)\n",
    "        x = self.conv3(x)\n",
    "        x = self.bn3(x)\n",
    "        x = self.relu3(x)\n",
    "        x = self.pool3(x)\n",
    "        x = x.view(x.size(0), -1)\n",
    "        x = self.fc1(x)\n",
    "        x = self.relu(x)\n",
    "        x = self.dropout(x)\n",
    "        x = self.fc2(x)\n",
    "        return x"
   ]
  },
  {
   "cell_type": "code",
   "execution_count": null,
   "metadata": {},
   "outputs": [],
   "source": []
  },
  {
   "cell_type": "code",
   "execution_count": null,
   "metadata": {},
   "outputs": [],
   "source": []
  },
  {
   "cell_type": "code",
   "execution_count": null,
   "metadata": {},
   "outputs": [],
   "source": []
  },
  {
   "cell_type": "code",
   "execution_count": null,
   "metadata": {},
   "outputs": [],
   "source": []
  },
  {
   "cell_type": "code",
   "execution_count": 17,
   "metadata": {},
   "outputs": [
    {
     "ename": "TypeError",
     "evalue": "can't convert np.ndarray of type numpy.uint16. The only supported types are: float64, float32, float16, complex64, complex128, int64, int32, int16, int8, uint8, and bool.",
     "output_type": "error",
     "traceback": [
      "\u001b[1;31m---------------------------------------------------------------------------\u001b[0m",
      "\u001b[1;31mTypeError\u001b[0m                                 Traceback (most recent call last)",
      "\u001b[1;32m<ipython-input-17-44b3eef75019>\u001b[0m in \u001b[0;36m<module>\u001b[1;34m\u001b[0m\n\u001b[0;32m     13\u001b[0m     \u001b[0mrunning_loss\u001b[0m \u001b[1;33m=\u001b[0m \u001b[1;36m0.0\u001b[0m\u001b[1;33m\u001b[0m\u001b[1;33m\u001b[0m\u001b[0m\n\u001b[0;32m     14\u001b[0m \u001b[1;33m\u001b[0m\u001b[0m\n\u001b[1;32m---> 15\u001b[1;33m     \u001b[1;32mfor\u001b[0m \u001b[0mi\u001b[0m\u001b[1;33m,\u001b[0m \u001b[1;33m(\u001b[0m\u001b[0minputs\u001b[0m\u001b[1;33m,\u001b[0m \u001b[0mlabels\u001b[0m\u001b[1;33m)\u001b[0m \u001b[1;32min\u001b[0m \u001b[0menumerate\u001b[0m\u001b[1;33m(\u001b[0m\u001b[0mtrain_loader\u001b[0m\u001b[1;33m)\u001b[0m\u001b[1;33m:\u001b[0m\u001b[1;33m\u001b[0m\u001b[1;33m\u001b[0m\u001b[0m\n\u001b[0m\u001b[0;32m     16\u001b[0m         \u001b[0minputs\u001b[0m \u001b[1;33m=\u001b[0m \u001b[0minputs\u001b[0m\u001b[1;33m.\u001b[0m\u001b[0mto\u001b[0m\u001b[1;33m(\u001b[0m\u001b[0mdevice\u001b[0m\u001b[1;33m)\u001b[0m\u001b[1;33m\u001b[0m\u001b[1;33m\u001b[0m\u001b[0m\n\u001b[0;32m     17\u001b[0m         \u001b[0mlabels\u001b[0m \u001b[1;33m=\u001b[0m \u001b[0mlabels\u001b[0m\u001b[1;33m.\u001b[0m\u001b[0mto\u001b[0m\u001b[1;33m(\u001b[0m\u001b[0mdevice\u001b[0m\u001b[1;33m)\u001b[0m\u001b[1;33m\u001b[0m\u001b[1;33m\u001b[0m\u001b[0m\n",
      "\u001b[1;32m~\\anaconda3\\envs\\pytrch\\lib\\site-packages\\torch\\utils\\data\\dataloader.py\u001b[0m in \u001b[0;36m__next__\u001b[1;34m(self)\u001b[0m\n\u001b[0;32m    515\u001b[0m             \u001b[1;32mif\u001b[0m \u001b[0mself\u001b[0m\u001b[1;33m.\u001b[0m\u001b[0m_sampler_iter\u001b[0m \u001b[1;32mis\u001b[0m \u001b[1;32mNone\u001b[0m\u001b[1;33m:\u001b[0m\u001b[1;33m\u001b[0m\u001b[1;33m\u001b[0m\u001b[0m\n\u001b[0;32m    516\u001b[0m                 \u001b[0mself\u001b[0m\u001b[1;33m.\u001b[0m\u001b[0m_reset\u001b[0m\u001b[1;33m(\u001b[0m\u001b[1;33m)\u001b[0m\u001b[1;33m\u001b[0m\u001b[1;33m\u001b[0m\u001b[0m\n\u001b[1;32m--> 517\u001b[1;33m             \u001b[0mdata\u001b[0m \u001b[1;33m=\u001b[0m \u001b[0mself\u001b[0m\u001b[1;33m.\u001b[0m\u001b[0m_next_data\u001b[0m\u001b[1;33m(\u001b[0m\u001b[1;33m)\u001b[0m\u001b[1;33m\u001b[0m\u001b[1;33m\u001b[0m\u001b[0m\n\u001b[0m\u001b[0;32m    518\u001b[0m             \u001b[0mself\u001b[0m\u001b[1;33m.\u001b[0m\u001b[0m_num_yielded\u001b[0m \u001b[1;33m+=\u001b[0m \u001b[1;36m1\u001b[0m\u001b[1;33m\u001b[0m\u001b[1;33m\u001b[0m\u001b[0m\n\u001b[0;32m    519\u001b[0m             \u001b[1;32mif\u001b[0m \u001b[0mself\u001b[0m\u001b[1;33m.\u001b[0m\u001b[0m_dataset_kind\u001b[0m \u001b[1;33m==\u001b[0m \u001b[0m_DatasetKind\u001b[0m\u001b[1;33m.\u001b[0m\u001b[0mIterable\u001b[0m \u001b[1;32mand\u001b[0m\u001b[0;31m \u001b[0m\u001b[0;31m\\\u001b[0m\u001b[1;33m\u001b[0m\u001b[1;33m\u001b[0m\u001b[0m\n",
      "\u001b[1;32m~\\anaconda3\\envs\\pytrch\\lib\\site-packages\\torch\\utils\\data\\dataloader.py\u001b[0m in \u001b[0;36m_next_data\u001b[1;34m(self)\u001b[0m\n\u001b[0;32m    555\u001b[0m     \u001b[1;32mdef\u001b[0m \u001b[0m_next_data\u001b[0m\u001b[1;33m(\u001b[0m\u001b[0mself\u001b[0m\u001b[1;33m)\u001b[0m\u001b[1;33m:\u001b[0m\u001b[1;33m\u001b[0m\u001b[1;33m\u001b[0m\u001b[0m\n\u001b[0;32m    556\u001b[0m         \u001b[0mindex\u001b[0m \u001b[1;33m=\u001b[0m \u001b[0mself\u001b[0m\u001b[1;33m.\u001b[0m\u001b[0m_next_index\u001b[0m\u001b[1;33m(\u001b[0m\u001b[1;33m)\u001b[0m  \u001b[1;31m# may raise StopIteration\u001b[0m\u001b[1;33m\u001b[0m\u001b[1;33m\u001b[0m\u001b[0m\n\u001b[1;32m--> 557\u001b[1;33m         \u001b[0mdata\u001b[0m \u001b[1;33m=\u001b[0m \u001b[0mself\u001b[0m\u001b[1;33m.\u001b[0m\u001b[0m_dataset_fetcher\u001b[0m\u001b[1;33m.\u001b[0m\u001b[0mfetch\u001b[0m\u001b[1;33m(\u001b[0m\u001b[0mindex\u001b[0m\u001b[1;33m)\u001b[0m  \u001b[1;31m# may raise StopIteration\u001b[0m\u001b[1;33m\u001b[0m\u001b[1;33m\u001b[0m\u001b[0m\n\u001b[0m\u001b[0;32m    558\u001b[0m         \u001b[1;32mif\u001b[0m \u001b[0mself\u001b[0m\u001b[1;33m.\u001b[0m\u001b[0m_pin_memory\u001b[0m\u001b[1;33m:\u001b[0m\u001b[1;33m\u001b[0m\u001b[1;33m\u001b[0m\u001b[0m\n\u001b[0;32m    559\u001b[0m             \u001b[0mdata\u001b[0m \u001b[1;33m=\u001b[0m \u001b[0m_utils\u001b[0m\u001b[1;33m.\u001b[0m\u001b[0mpin_memory\u001b[0m\u001b[1;33m.\u001b[0m\u001b[0mpin_memory\u001b[0m\u001b[1;33m(\u001b[0m\u001b[0mdata\u001b[0m\u001b[1;33m)\u001b[0m\u001b[1;33m\u001b[0m\u001b[1;33m\u001b[0m\u001b[0m\n",
      "\u001b[1;32m~\\anaconda3\\envs\\pytrch\\lib\\site-packages\\torch\\utils\\data\\_utils\\fetch.py\u001b[0m in \u001b[0;36mfetch\u001b[1;34m(self, possibly_batched_index)\u001b[0m\n\u001b[0;32m     42\u001b[0m     \u001b[1;32mdef\u001b[0m \u001b[0mfetch\u001b[0m\u001b[1;33m(\u001b[0m\u001b[0mself\u001b[0m\u001b[1;33m,\u001b[0m \u001b[0mpossibly_batched_index\u001b[0m\u001b[1;33m)\u001b[0m\u001b[1;33m:\u001b[0m\u001b[1;33m\u001b[0m\u001b[1;33m\u001b[0m\u001b[0m\n\u001b[0;32m     43\u001b[0m         \u001b[1;32mif\u001b[0m \u001b[0mself\u001b[0m\u001b[1;33m.\u001b[0m\u001b[0mauto_collation\u001b[0m\u001b[1;33m:\u001b[0m\u001b[1;33m\u001b[0m\u001b[1;33m\u001b[0m\u001b[0m\n\u001b[1;32m---> 44\u001b[1;33m             \u001b[0mdata\u001b[0m \u001b[1;33m=\u001b[0m \u001b[1;33m[\u001b[0m\u001b[0mself\u001b[0m\u001b[1;33m.\u001b[0m\u001b[0mdataset\u001b[0m\u001b[1;33m[\u001b[0m\u001b[0midx\u001b[0m\u001b[1;33m]\u001b[0m \u001b[1;32mfor\u001b[0m \u001b[0midx\u001b[0m \u001b[1;32min\u001b[0m \u001b[0mpossibly_batched_index\u001b[0m\u001b[1;33m]\u001b[0m\u001b[1;33m\u001b[0m\u001b[1;33m\u001b[0m\u001b[0m\n\u001b[0m\u001b[0;32m     45\u001b[0m         \u001b[1;32melse\u001b[0m\u001b[1;33m:\u001b[0m\u001b[1;33m\u001b[0m\u001b[1;33m\u001b[0m\u001b[0m\n\u001b[0;32m     46\u001b[0m             \u001b[0mdata\u001b[0m \u001b[1;33m=\u001b[0m \u001b[0mself\u001b[0m\u001b[1;33m.\u001b[0m\u001b[0mdataset\u001b[0m\u001b[1;33m[\u001b[0m\u001b[0mpossibly_batched_index\u001b[0m\u001b[1;33m]\u001b[0m\u001b[1;33m\u001b[0m\u001b[1;33m\u001b[0m\u001b[0m\n",
      "\u001b[1;32m~\\anaconda3\\envs\\pytrch\\lib\\site-packages\\torch\\utils\\data\\_utils\\fetch.py\u001b[0m in \u001b[0;36m<listcomp>\u001b[1;34m(.0)\u001b[0m\n\u001b[0;32m     42\u001b[0m     \u001b[1;32mdef\u001b[0m \u001b[0mfetch\u001b[0m\u001b[1;33m(\u001b[0m\u001b[0mself\u001b[0m\u001b[1;33m,\u001b[0m \u001b[0mpossibly_batched_index\u001b[0m\u001b[1;33m)\u001b[0m\u001b[1;33m:\u001b[0m\u001b[1;33m\u001b[0m\u001b[1;33m\u001b[0m\u001b[0m\n\u001b[0;32m     43\u001b[0m         \u001b[1;32mif\u001b[0m \u001b[0mself\u001b[0m\u001b[1;33m.\u001b[0m\u001b[0mauto_collation\u001b[0m\u001b[1;33m:\u001b[0m\u001b[1;33m\u001b[0m\u001b[1;33m\u001b[0m\u001b[0m\n\u001b[1;32m---> 44\u001b[1;33m             \u001b[0mdata\u001b[0m \u001b[1;33m=\u001b[0m \u001b[1;33m[\u001b[0m\u001b[0mself\u001b[0m\u001b[1;33m.\u001b[0m\u001b[0mdataset\u001b[0m\u001b[1;33m[\u001b[0m\u001b[0midx\u001b[0m\u001b[1;33m]\u001b[0m \u001b[1;32mfor\u001b[0m \u001b[0midx\u001b[0m \u001b[1;32min\u001b[0m \u001b[0mpossibly_batched_index\u001b[0m\u001b[1;33m]\u001b[0m\u001b[1;33m\u001b[0m\u001b[1;33m\u001b[0m\u001b[0m\n\u001b[0m\u001b[0;32m     45\u001b[0m         \u001b[1;32melse\u001b[0m\u001b[1;33m:\u001b[0m\u001b[1;33m\u001b[0m\u001b[1;33m\u001b[0m\u001b[0m\n\u001b[0;32m     46\u001b[0m             \u001b[0mdata\u001b[0m \u001b[1;33m=\u001b[0m \u001b[0mself\u001b[0m\u001b[1;33m.\u001b[0m\u001b[0mdataset\u001b[0m\u001b[1;33m[\u001b[0m\u001b[0mpossibly_batched_index\u001b[0m\u001b[1;33m]\u001b[0m\u001b[1;33m\u001b[0m\u001b[1;33m\u001b[0m\u001b[0m\n",
      "\u001b[1;32m<ipython-input-16-16d6f157bcfe>\u001b[0m in \u001b[0;36m__getitem__\u001b[1;34m(self, index)\u001b[0m\n\u001b[0;32m     29\u001b[0m \u001b[1;33m\u001b[0m\u001b[0m\n\u001b[0;32m     30\u001b[0m         \u001b[1;32mif\u001b[0m \u001b[0mself\u001b[0m\u001b[1;33m.\u001b[0m\u001b[0mtransform\u001b[0m\u001b[1;33m:\u001b[0m\u001b[1;33m\u001b[0m\u001b[1;33m\u001b[0m\u001b[0m\n\u001b[1;32m---> 31\u001b[1;33m             \u001b[0mx\u001b[0m \u001b[1;33m=\u001b[0m \u001b[0mself\u001b[0m\u001b[1;33m.\u001b[0m\u001b[0mtransform\u001b[0m\u001b[1;33m(\u001b[0m\u001b[0mx\u001b[0m\u001b[1;33m)\u001b[0m\u001b[1;33m\u001b[0m\u001b[1;33m\u001b[0m\u001b[0m\n\u001b[0m\u001b[0;32m     32\u001b[0m \u001b[1;33m\u001b[0m\u001b[0m\n\u001b[0;32m     33\u001b[0m         \u001b[1;32mreturn\u001b[0m \u001b[0mx\u001b[0m\u001b[1;33m,\u001b[0m \u001b[0my\u001b[0m\u001b[1;33m\u001b[0m\u001b[1;33m\u001b[0m\u001b[0m\n",
      "\u001b[1;32m~\\anaconda3\\envs\\pytrch\\lib\\site-packages\\torchvision\\transforms\\transforms.py\u001b[0m in \u001b[0;36m__call__\u001b[1;34m(self, img)\u001b[0m\n\u001b[0;32m     58\u001b[0m     \u001b[1;32mdef\u001b[0m \u001b[0m__call__\u001b[0m\u001b[1;33m(\u001b[0m\u001b[0mself\u001b[0m\u001b[1;33m,\u001b[0m \u001b[0mimg\u001b[0m\u001b[1;33m)\u001b[0m\u001b[1;33m:\u001b[0m\u001b[1;33m\u001b[0m\u001b[1;33m\u001b[0m\u001b[0m\n\u001b[0;32m     59\u001b[0m         \u001b[1;32mfor\u001b[0m \u001b[0mt\u001b[0m \u001b[1;32min\u001b[0m \u001b[0mself\u001b[0m\u001b[1;33m.\u001b[0m\u001b[0mtransforms\u001b[0m\u001b[1;33m:\u001b[0m\u001b[1;33m\u001b[0m\u001b[1;33m\u001b[0m\u001b[0m\n\u001b[1;32m---> 60\u001b[1;33m             \u001b[0mimg\u001b[0m \u001b[1;33m=\u001b[0m \u001b[0mt\u001b[0m\u001b[1;33m(\u001b[0m\u001b[0mimg\u001b[0m\u001b[1;33m)\u001b[0m\u001b[1;33m\u001b[0m\u001b[1;33m\u001b[0m\u001b[0m\n\u001b[0m\u001b[0;32m     61\u001b[0m         \u001b[1;32mreturn\u001b[0m \u001b[0mimg\u001b[0m\u001b[1;33m\u001b[0m\u001b[1;33m\u001b[0m\u001b[0m\n\u001b[0;32m     62\u001b[0m \u001b[1;33m\u001b[0m\u001b[0m\n",
      "\u001b[1;32m~\\anaconda3\\envs\\pytrch\\lib\\site-packages\\torchvision\\transforms\\transforms.py\u001b[0m in \u001b[0;36m__call__\u001b[1;34m(self, pic)\u001b[0m\n\u001b[0;32m     95\u001b[0m             \u001b[0mTensor\u001b[0m\u001b[1;33m:\u001b[0m \u001b[0mConverted\u001b[0m \u001b[0mimage\u001b[0m\u001b[1;33m.\u001b[0m\u001b[1;33m\u001b[0m\u001b[1;33m\u001b[0m\u001b[0m\n\u001b[0;32m     96\u001b[0m         \"\"\"\n\u001b[1;32m---> 97\u001b[1;33m         \u001b[1;32mreturn\u001b[0m \u001b[0mF\u001b[0m\u001b[1;33m.\u001b[0m\u001b[0mto_tensor\u001b[0m\u001b[1;33m(\u001b[0m\u001b[0mpic\u001b[0m\u001b[1;33m)\u001b[0m\u001b[1;33m\u001b[0m\u001b[1;33m\u001b[0m\u001b[0m\n\u001b[0m\u001b[0;32m     98\u001b[0m \u001b[1;33m\u001b[0m\u001b[0m\n\u001b[0;32m     99\u001b[0m     \u001b[1;32mdef\u001b[0m \u001b[0m__repr__\u001b[0m\u001b[1;33m(\u001b[0m\u001b[0mself\u001b[0m\u001b[1;33m)\u001b[0m\u001b[1;33m:\u001b[0m\u001b[1;33m\u001b[0m\u001b[1;33m\u001b[0m\u001b[0m\n",
      "\u001b[1;32m~\\anaconda3\\envs\\pytrch\\lib\\site-packages\\torchvision\\transforms\\functional.py\u001b[0m in \u001b[0;36mto_tensor\u001b[1;34m(pic)\u001b[0m\n\u001b[0;32m    112\u001b[0m             \u001b[0mpic\u001b[0m \u001b[1;33m=\u001b[0m \u001b[0mpic\u001b[0m\u001b[1;33m[\u001b[0m\u001b[1;33m:\u001b[0m\u001b[1;33m,\u001b[0m \u001b[1;33m:\u001b[0m\u001b[1;33m,\u001b[0m \u001b[1;32mNone\u001b[0m\u001b[1;33m]\u001b[0m\u001b[1;33m\u001b[0m\u001b[1;33m\u001b[0m\u001b[0m\n\u001b[0;32m    113\u001b[0m \u001b[1;33m\u001b[0m\u001b[0m\n\u001b[1;32m--> 114\u001b[1;33m         \u001b[0mimg\u001b[0m \u001b[1;33m=\u001b[0m \u001b[0mtorch\u001b[0m\u001b[1;33m.\u001b[0m\u001b[0mfrom_numpy\u001b[0m\u001b[1;33m(\u001b[0m\u001b[0mpic\u001b[0m\u001b[1;33m.\u001b[0m\u001b[0mtranspose\u001b[0m\u001b[1;33m(\u001b[0m\u001b[1;33m(\u001b[0m\u001b[1;36m2\u001b[0m\u001b[1;33m,\u001b[0m \u001b[1;36m0\u001b[0m\u001b[1;33m,\u001b[0m \u001b[1;36m1\u001b[0m\u001b[1;33m)\u001b[0m\u001b[1;33m)\u001b[0m\u001b[1;33m)\u001b[0m\u001b[1;33m.\u001b[0m\u001b[0mcontiguous\u001b[0m\u001b[1;33m(\u001b[0m\u001b[1;33m)\u001b[0m\u001b[1;33m\u001b[0m\u001b[1;33m\u001b[0m\u001b[0m\n\u001b[0m\u001b[0;32m    115\u001b[0m         \u001b[1;31m# backward compatibility\u001b[0m\u001b[1;33m\u001b[0m\u001b[1;33m\u001b[0m\u001b[1;33m\u001b[0m\u001b[0m\n\u001b[0;32m    116\u001b[0m         \u001b[1;32mif\u001b[0m \u001b[0misinstance\u001b[0m\u001b[1;33m(\u001b[0m\u001b[0mimg\u001b[0m\u001b[1;33m,\u001b[0m \u001b[0mtorch\u001b[0m\u001b[1;33m.\u001b[0m\u001b[0mByteTensor\u001b[0m\u001b[1;33m)\u001b[0m\u001b[1;33m:\u001b[0m\u001b[1;33m\u001b[0m\u001b[1;33m\u001b[0m\u001b[0m\n",
      "\u001b[1;31mTypeError\u001b[0m: can't convert np.ndarray of type numpy.uint16. The only supported types are: float64, float32, float16, complex64, complex128, int64, int32, int16, int8, uint8, and bool."
     ]
    }
   ],
   "source": [
    "# Define device and model\n",
    "device = torch.device(\"cuda\" if torch.cuda.is_available() else \"cpu\")\n",
    "model = ProstateModel().to(device)\n",
    "\n",
    "# Define loss function and optimizer\n",
    "criterion = nn.CrossEntropyLoss()\n",
    "optimizer = optim.Adam(model.parameters(), lr=0.001)\n",
    "\n",
    "# Train model\n",
    "num_epochs = 10\n",
    "\n",
    "for epoch in range(num_epochs):\n",
    "    running_loss = 0.0\n",
    "    \n",
    "    for i, (inputs, labels) in enumerate(train_loader):\n",
    "        inputs = inputs.to(device)\n",
    "        labels = labels.to(device)\n",
    "        \n",
    "        optimizer.zero_grad()\n",
    "        \n",
    "        outputs = model(inputs)\n",
    "        loss = criterion(outputs, labels)\n",
    "        \n",
    "        loss.backward()\n",
    "        optimizer.step()\n",
    "        \n",
    "        running_loss += loss.item()\n",
    "        \n",
    "        if i % 100 == 99:\n",
    "            print('[%d, %5d] loss: %.3f' % (epoch + 1, i + 1, running_loss / 100))\n",
    "            running_loss = 0.0\n",
    "            \n",
    "# Test model\n",
    "correct = 0\n",
    "total = 0\n",
    "\n",
    "with torch.no_grad():\n",
    "    for inputs, labels in test_loader:\n",
    "        inputs = inputs.to(device)\n",
    "        labels = labels.to(device)\n",
    "        \n",
    "        outputs = model(inputs)\n",
    "        _, predicted = torch.max(outputs.data, 1)\n",
    "        \n",
    "        total += labels.size(0)\n",
    "        correct += (predicted == labels).sum().item()\n",
    "        \n",
    "print('Accuracy: %.2f %%' % (100 * correct / total))"
   ]
  },
  {
   "cell_type": "code",
   "execution_count": null,
   "metadata": {},
   "outputs": [],
   "source": [
    "import os\n",
    "import re\n",
    "import cv2"
   ]
  },
  {
   "cell_type": "code",
   "execution_count": null,
   "metadata": {},
   "outputs": [],
   "source": [
    "#im1 = cv2.resize(images,(28,28))"
   ]
  },
  {
   "cell_type": "code",
   "execution_count": null,
   "metadata": {},
   "outputs": [],
   "source": [
    "import cv2\n",
    "\n",
    "width = 28\n",
    "height = 28\n",
    "im1 = np.zeros((len(images), width, height))\n",
    "\n",
    "for idx in range(len(images)):\n",
    "    img = images[idx, :, :]\n",
    "    img_sm = cv2.resize(img, (width, height), interpolation=cv2.INTER_CUBIC)\n",
    "    im1[idx, :, :] = img_sm"
   ]
  },
  {
   "cell_type": "code",
   "execution_count": null,
   "metadata": {},
   "outputs": [],
   "source": [
    "np.shape(im1)"
   ]
  },
  {
   "cell_type": "code",
   "execution_count": null,
   "metadata": {},
   "outputs": [],
   "source": [
    "np.save('D:/PROSTAT/adc1/X_train.npy', im1)\n",
    "np.save('D:/PROSTAT/adc1/Y_train.npy', labels) "
   ]
  },
  {
   "cell_type": "code",
   "execution_count": 75,
   "metadata": {},
   "outputs": [],
   "source": [
    "images1 = np.load('D:/PROSTAT/adc1/X_train.npy')\n",
    "labels1 = np.load('D:/PROSTAT/adc1/Y_train.npy')"
   ]
  },
  {
   "cell_type": "code",
   "execution_count": 76,
   "metadata": {},
   "outputs": [
    {
     "data": {
      "text/plain": [
       "(218, 28, 28)"
      ]
     },
     "execution_count": 76,
     "metadata": {},
     "output_type": "execute_result"
    }
   ],
   "source": [
    "np.shape(images1)"
   ]
  },
  {
   "cell_type": "code",
   "execution_count": null,
   "metadata": {},
   "outputs": [],
   "source": []
  }
 ],
 "metadata": {
  "kernelspec": {
   "display_name": "Python 3",
   "language": "python",
   "name": "python3"
  },
  "language_info": {
   "codemirror_mode": {
    "name": "ipython",
    "version": 3
   },
   "file_extension": ".py",
   "mimetype": "text/x-python",
   "name": "python",
   "nbconvert_exporter": "python",
   "pygments_lexer": "ipython3",
   "version": "3.8.5"
  }
 },
 "nbformat": 4,
 "nbformat_minor": 4
}
