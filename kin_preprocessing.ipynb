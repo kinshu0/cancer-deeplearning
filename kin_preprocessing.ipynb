{
 "cells": [
  {
   "cell_type": "code",
   "execution_count": null,
   "metadata": {},
   "outputs": [],
   "source": [
    "%pip install pydicom\n",
    "%pip install matplotlib\n",
    "%pip install pandas\n",
    "%pip install opencv-python"
   ]
  },
  {
   "cell_type": "markdown",
   "metadata": {},
   "source": [
    "Dataset Description\n",
    "\n",
    "- Modalities - MR\n",
    "- Number of Participants - 346\n",
    "- Number of Studies - 349\n",
    "- Number of Series - 18,321\n",
    "- Number of Images - 309,251\n",
    "- Images Size (GB) - 15.1\n",
    "\n",
    "Of this, we will only use the t2tsetra MR Images"
   ]
  },
  {
   "cell_type": "code",
   "execution_count": 3,
   "metadata": {},
   "outputs": [],
   "source": [
    "import pandas as pd\n",
    "import os\n",
    "from pathlib import Path\n",
    "import matplotlib.pyplot as plt\n",
    "import re\n",
    "import pydicom\n",
    "import numpy as np\n",
    "\n",
    "labels_train = pd.read_csv('./ProstateX-TrainingLesionInformationv2/ProstateX-Images-Train.csv')\n",
    "findings_train = pd.read_csv('./ProstateX-TrainingLesionInformationv2/ProstateX-Findings-Train.csv')\n",
    "\n",
    "labels_test = pd.read_csv('./ProstateX-TestLesionInformation/ProstateX-Images-Test.csv')\n",
    "findings_test = pd.read_csv('./ProstateX-TestLesionInformation/ProstateX-Findings-Test.csv')"
   ]
  },
  {
   "cell_type": "code",
   "execution_count": 168,
   "metadata": {},
   "outputs": [],
   "source": [
    "images_path = Path('../data/PROSTATEx-v1-doiJNLP/PROSTATEx/')"
   ]
  },
  {
   "cell_type": "code",
   "execution_count": 4,
   "metadata": {},
   "outputs": [],
   "source": [
    "def load_dicom(label):\n",
    "    image_path = next(next((images_path / label['ProxID']).glob('*/')).glob(f'{label['DCMSerNum']}.000000-{label['DCMSerDescr'].replace('_', '')}-*'))\n",
    "    \n",
    "    height, width, num_slices, _ = map(int, label['Dim'].split('x'))\n",
    "\n",
    "    mri = np.empty((num_slices, width, height), np.uint16)\n",
    "\n",
    "    for ix, dicom_file in enumerate(sorted(image_path.glob('*.dcm'))):\n",
    "        ds = pydicom.dcmread(dicom_file).pixel_array\n",
    "        mri[ix] = ds\n",
    "    \n",
    "    return mri\n",
    "\n",
    "\n",
    "t2tsetra_labels = labels_train[labels_train['DCMSerDescr'] == 't2_tse_tra'].copy()"
   ]
  },
  {
   "cell_type": "code",
   "execution_count": 8,
   "metadata": {},
   "outputs": [],
   "source": [
    "import matplotlib.patches as patches"
   ]
  },
  {
   "cell_type": "code",
   "execution_count": 5,
   "metadata": {},
   "outputs": [],
   "source": [
    "resized_lesion_coordinates = (t2tsetra_labels['ijk'].str.split(expand=True))\n",
    "resized_lesion_coordinates.columns = ['lesion_col', 'lesion_row', 'lesion_slice']\n",
    "\n",
    "for col in resized_lesion_coordinates.columns:\n",
    "    resized_lesion_coordinates[col] = pd.to_numeric(resized_lesion_coordinates[col])\n",
    "\n",
    "image_dims = t2tsetra_labels['Dim'].str.split('x', expand=True).astype(float)\n",
    "image_dims.columns = ['height', 'width', 'num_slices', 'depth']\n",
    "\n",
    "for col in image_dims.columns:\n",
    "    image_dims[col] = pd.to_numeric(image_dims[col])\n",
    "\n",
    "\n",
    "resized_lesion_coordinates['lesion_col'] *= (320 / image_dims['width'])\n",
    "resized_lesion_coordinates['lesion_row'] *= (320 / image_dims['height'])"
   ]
  },
  {
   "cell_type": "code",
   "execution_count": 9,
   "metadata": {},
   "outputs": [],
   "source": [
    "import cv2"
   ]
  },
  {
   "cell_type": "code",
   "execution_count": 10,
   "metadata": {},
   "outputs": [],
   "source": [
    "def load_dicom_slices(label, start_slice, num_slices):\n",
    "    image_path = next(next((images_path / label['ProxID']).glob('*/')).glob(f'{label['DCMSerNum']}.000000-{label['DCMSerDescr'].replace('_', '')}-*'))\n",
    "    \n",
    "    height, width, _, _ = map(int, label['Dim'].split('x'))\n",
    "\n",
    "    mri = np.empty((num_slices, width, height), np.uint16)\n",
    "\n",
    "    slice_files = list(sorted(image_path.glob('*.dcm')))\n",
    "\n",
    "    for ix, dicom_file in enumerate(slice_files[start_slice:start_slice + num_slices]):\n",
    "        ds = pydicom.dcmread(dicom_file).pixel_array\n",
    "        mri[ix] = ds\n",
    "    \n",
    "    return mri"
   ]
  },
  {
   "cell_type": "code",
   "execution_count": 11,
   "metadata": {},
   "outputs": [],
   "source": [
    "def draw_bounds(r, c, bounding_box_size, ax=None):\n",
    "    bounding_box = patches.Rectangle((c - bounding_box_size / 2, r - bounding_box_size / 2), bounding_box_size, bounding_box_size, linewidth=1, edgecolor='r', facecolor='none')\n",
    "    \n",
    "    if ax:\n",
    "        ax.add_patch(bounding_box)\n",
    "    else:\n",
    "        plt.gca().add_patch(bounding_box)"
   ]
  },
  {
   "cell_type": "code",
   "execution_count": 12,
   "metadata": {},
   "outputs": [],
   "source": [
    "t2tsetra_labels['lesion_crop_filename'] = [f'{i}_cropped.npy' for i in t2tsetra_labels.index]"
   ]
  },
  {
   "cell_type": "code",
   "execution_count": 13,
   "metadata": {},
   "outputs": [],
   "source": [
    "def crop_center(img, r, c, size: int):\n",
    "    sr = r - size / 2\n",
    "    er = sr + size\n",
    "    sc = c - size / 2\n",
    "    ec = sc + size\n",
    "\n",
    "    sr, sc, er, ec = map(int, [sr, sc, er, ec])\n",
    "    \n",
    "    if min(sr, sc, er, ec) < 0 or max(sr, sc, er, ec) > max(img.shape):\n",
    "        raise Exception('Lesion crop out of bounds')\n",
    "    \n",
    "    return img[:, sr: er, sc: ec]"
   ]
  },
  {
   "cell_type": "code",
   "execution_count": 184,
   "metadata": {},
   "outputs": [
    {
     "name": "stdout",
     "output_type": "stream",
     "text": [
      "Done\n"
     ]
    }
   ],
   "source": [
    "cropped_lesion_files_path = Path('cropped_lesions/')\n",
    "\n",
    "for ix, row in t2tsetra_labels.iterrows():\n",
    "    label = row\n",
    "\n",
    "    lesion_slice = resized_lesion_coordinates['lesion_slice'].loc[ix]\n",
    "    lesion_row = resized_lesion_coordinates['lesion_row'].loc[ix]\n",
    "    lesion_col = resized_lesion_coordinates['lesion_col'].loc[ix]\n",
    "\n",
    "\n",
    "    resized_mri = np.empty((5, 320, 320))\n",
    "    \n",
    "    mri = load_dicom_slices(label, lesion_slice - 2, 5)\n",
    "\n",
    "    for ix, slice in enumerate(mri):\n",
    "        resized_mri[ix] = cv2.resize(slice, (320, 320))\n",
    "        \n",
    "    # fig, axs = plt.subplots(1, 2)\n",
    "\n",
    "    # axs[0].imshow(resized_mri[2])\n",
    "\n",
    "    # draw_bounds(lesion_row, lesion_col, 64, axs[0])\n",
    "\n",
    "    # cropped_lesion = crop_center(resized_mri, lesion_row, lesion_col, 64)\n",
    "\n",
    "    # axs[1].imshow(cropped_lesion[2])\n",
    "\n",
    "    with open(cropped_lesion_files_path / label['lesion_crop_filename'], 'wb+') as f:\n",
    "        np.save(f, resized_mri)\n",
    "\n",
    "print('Done')"
   ]
  },
  {
   "cell_type": "code",
   "execution_count": 185,
   "metadata": {},
   "outputs": [],
   "source": [
    "with open('labeled_cropped_lesions.csv', 'wb+') as f:\n",
    "    t2tsetra_labels.to_csv(f)"
   ]
  },
  {
   "cell_type": "code",
   "execution_count": 14,
   "metadata": {},
   "outputs": [],
   "source": [
    "findings = pd.read_csv('ProstateX-TrainingLesionInformationv2/ProstateX-Findings-Train.csv')"
   ]
  },
  {
   "cell_type": "code",
   "execution_count": 190,
   "metadata": {},
   "outputs": [],
   "source": [
    "t2tsetra_labels = t2tsetra_labels.drop_duplicates(subset=['ProxID', 'fid', 'pos'], keep='first')"
   ]
  },
  {
   "cell_type": "code",
   "execution_count": 194,
   "metadata": {},
   "outputs": [],
   "source": [
    "joined_labels = findings.merge(t2tsetra_labels, on=['ProxID', 'fid', 'pos'], how='left')"
   ]
  },
  {
   "cell_type": "code",
   "execution_count": 196,
   "metadata": {},
   "outputs": [],
   "source": [
    "joined_labels.to_csv('final_training_labels.csv')"
   ]
  }
 ],
 "metadata": {
  "kernelspec": {
   "display_name": "Python 3",
   "language": "python",
   "name": "python3"
  },
  "language_info": {
   "codemirror_mode": {
    "name": "ipython",
    "version": 3
   },
   "file_extension": ".py",
   "mimetype": "text/x-python",
   "name": "python",
   "nbconvert_exporter": "python",
   "pygments_lexer": "ipython3",
   "version": "3.12.2"
  }
 },
 "nbformat": 4,
 "nbformat_minor": 2
}
