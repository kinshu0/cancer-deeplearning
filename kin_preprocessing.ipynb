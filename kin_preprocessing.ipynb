{
 "cells": [
  {
   "cell_type": "code",
   "execution_count": 124,
   "metadata": {},
   "outputs": [
    {
     "name": "stdout",
     "output_type": "stream",
     "text": [
      "Requirement already satisfied: pydicom in c:\\users\\kgupta\\appdata\\local\\miniconda3\\envs\\cancer-study\\lib\\site-packages (2.4.4)Note: you may need to restart the kernel to use updated packages.\n",
      "\n",
      "Requirement already satisfied: matplotlib in c:\\users\\kgupta\\appdata\\local\\miniconda3\\envs\\cancer-study\\lib\\site-packages (3.8.3)\n",
      "Requirement already satisfied: contourpy>=1.0.1 in c:\\users\\kgupta\\appdata\\local\\miniconda3\\envs\\cancer-study\\lib\\site-packages (from matplotlib) (1.2.0)\n",
      "Requirement already satisfied: cycler>=0.10 in c:\\users\\kgupta\\appdata\\local\\miniconda3\\envs\\cancer-study\\lib\\site-packages (from matplotlib) (0.12.1)\n",
      "Requirement already satisfied: fonttools>=4.22.0 in c:\\users\\kgupta\\appdata\\local\\miniconda3\\envs\\cancer-study\\lib\\site-packages (from matplotlib) (4.50.0)\n",
      "Requirement already satisfied: kiwisolver>=1.3.1 in c:\\users\\kgupta\\appdata\\local\\miniconda3\\envs\\cancer-study\\lib\\site-packages (from matplotlib) (1.4.5)\n",
      "Requirement already satisfied: numpy<2,>=1.21 in c:\\users\\kgupta\\appdata\\local\\miniconda3\\envs\\cancer-study\\lib\\site-packages (from matplotlib) (1.26.4)\n",
      "Requirement already satisfied: packaging>=20.0 in c:\\users\\kgupta\\appdata\\local\\miniconda3\\envs\\cancer-study\\lib\\site-packages (from matplotlib) (24.0)\n",
      "Requirement already satisfied: pillow>=8 in c:\\users\\kgupta\\appdata\\local\\miniconda3\\envs\\cancer-study\\lib\\site-packages (from matplotlib) (10.2.0)\n",
      "Requirement already satisfied: pyparsing>=2.3.1 in c:\\users\\kgupta\\appdata\\local\\miniconda3\\envs\\cancer-study\\lib\\site-packages (from matplotlib) (3.1.2)\n",
      "Requirement already satisfied: python-dateutil>=2.7 in c:\\users\\kgupta\\appdata\\local\\miniconda3\\envs\\cancer-study\\lib\\site-packages (from matplotlib) (2.9.0)\n",
      "Requirement already satisfied: six>=1.5 in c:\\users\\kgupta\\appdata\\local\\miniconda3\\envs\\cancer-study\\lib\\site-packages (from python-dateutil>=2.7->matplotlib) (1.16.0)\n",
      "Note: you may need to restart the kernel to use updated packages.\n",
      "Requirement already satisfied: pandas in c:\\users\\kgupta\\appdata\\local\\miniconda3\\envs\\cancer-study\\lib\\site-packages (2.2.1)\n",
      "Requirement already satisfied: numpy<2,>=1.26.0 in c:\\users\\kgupta\\appdata\\local\\miniconda3\\envs\\cancer-study\\lib\\site-packages (from pandas) (1.26.4)\n",
      "Requirement already satisfied: python-dateutil>=2.8.2 in c:\\users\\kgupta\\appdata\\local\\miniconda3\\envs\\cancer-study\\lib\\site-packages (from pandas) (2.9.0)\n",
      "Requirement already satisfied: pytz>=2020.1 in c:\\users\\kgupta\\appdata\\local\\miniconda3\\envs\\cancer-study\\lib\\site-packages (from pandas) (2024.1)\n",
      "Requirement already satisfied: tzdata>=2022.7 in c:\\users\\kgupta\\appdata\\local\\miniconda3\\envs\\cancer-study\\lib\\site-packages (from pandas) (2024.1)\n",
      "Requirement already satisfied: six>=1.5 in c:\\users\\kgupta\\appdata\\local\\miniconda3\\envs\\cancer-study\\lib\\site-packages (from python-dateutil>=2.8.2->pandas) (1.16.0)\n",
      "Note: you may need to restart the kernel to use updated packages.\n",
      "Requirement already satisfied: opencv-python in c:\\users\\kgupta\\appdata\\local\\miniconda3\\envs\\cancer-study\\lib\\site-packages (4.9.0.80)\n",
      "Requirement already satisfied: numpy>=1.21.2 in c:\\users\\kgupta\\appdata\\local\\miniconda3\\envs\\cancer-study\\lib\\site-packages (from opencv-python) (1.26.4)\n",
      "Note: you may need to restart the kernel to use updated packages.\n"
     ]
    }
   ],
   "source": [
    "%pip install pydicom\n",
    "%pip install matplotlib\n",
    "%pip install pandas\n",
    "%pip install opencv-python"
   ]
  },
  {
   "cell_type": "markdown",
   "metadata": {},
   "source": [
    "Dataset Description\n",
    "\n",
    "- Modalities - MR\n",
    "- Number of Participants - 346\n",
    "- Number of Studies - 349\n",
    "- Number of Series - 18,321\n",
    "- Number of Images - 309,251\n",
    "- Images Size (GB) - 15.1\n",
    "\n",
    "Of this, we will only use the t2tsetra MR Images"
   ]
  },
  {
   "cell_type": "code",
   "execution_count": 125,
   "metadata": {},
   "outputs": [],
   "source": [
    "import pandas as pd\n",
    "import os\n",
    "from pathlib import Path\n",
    "import matplotlib.pyplot as plt\n",
    "import re\n",
    "import pydicom\n",
    "import numpy as np\n",
    "\n",
    "import matplotlib.patches as patches\n",
    "import cv2"
   ]
  },
  {
   "cell_type": "code",
   "execution_count": 126,
   "metadata": {},
   "outputs": [],
   "source": [
    "def join_resize_labels(img_labels, findings_labels):\n",
    "    t2tsetra_labels = img_labels[img_labels['DCMSerDescr'] == 't2_tse_tra'].copy()\n",
    "\n",
    "    resized_lesion_coordinates = (t2tsetra_labels['ijk'].str.split(expand=True))\n",
    "    resized_lesion_coordinates.columns = ['resized_lesion_col', 'resized_lesion_row', 'resized_lesion_slice']\n",
    "\n",
    "    for col in resized_lesion_coordinates.columns:\n",
    "        resized_lesion_coordinates[col] = pd.to_numeric(resized_lesion_coordinates[col])\n",
    "\n",
    "    image_dims = t2tsetra_labels['Dim'].str.split('x', expand=True).astype(float)\n",
    "    image_dims.columns = ['height', 'width', 'num_slices', 'depth']\n",
    "\n",
    "    for col in image_dims.columns:\n",
    "        image_dims[col] = pd.to_numeric(image_dims[col])\n",
    "\n",
    "\n",
    "    resized_lesion_coordinates['resized_lesion_col'] *= (320 / image_dims['width'])\n",
    "    resized_lesion_coordinates['resized_lesion_row'] *= (320 / image_dims['height'])\n",
    "    resized_lesion_coordinates['resized_lesion_slice'] = 2\n",
    "\n",
    "    t2tsetra_labels = pd.concat([t2tsetra_labels, resized_lesion_coordinates], axis=1)\n",
    "\n",
    "\n",
    "    t2tsetra_labels['lesion_crop_filename'] = [f'{i}_cropped.npy' for i in t2tsetra_labels.index]\n",
    "\n",
    "    t2tsetra_labels = t2tsetra_labels.drop_duplicates(subset=['ProxID', 'fid', 'pos'], keep='first')\n",
    "\n",
    "    joined_labels = findings_labels.merge(t2tsetra_labels, on=['ProxID', 'fid', 'pos'], how='inner')\n",
    "\n",
    "    return joined_labels"
   ]
  },
  {
   "cell_type": "code",
   "execution_count": 127,
   "metadata": {},
   "outputs": [],
   "source": [
    "def load_dicom_slices(label, start_slice, num_slices, image_dataset_path):\n",
    "    file_pattern = f\"{label['DCMSerNum']}.000000-{label['DCMSerDescr'].replace('_', '')}-*\"\n",
    "    image_path = next(next((image_dataset_path / label['ProxID']).glob('*/')).glob(file_pattern))\n",
    "    \n",
    "    height, width, _, _ = map(int, label['Dim'].split('x'))\n",
    "\n",
    "    mri = np.empty((num_slices, width, height), np.uint16)\n",
    "\n",
    "    slice_files = list(sorted(image_path.glob('*.dcm')))\n",
    "\n",
    "    for ix, dicom_file in enumerate(slice_files[start_slice:start_slice + num_slices]):\n",
    "        ds = pydicom.dcmread(dicom_file).pixel_array\n",
    "        mri[ix] = ds\n",
    "    \n",
    "    return mri\n",
    "\n",
    "def crop_center(img, r, c, size: int):\n",
    "    sr = r - size / 2\n",
    "    er = sr + size\n",
    "    sc = c - size / 2\n",
    "    ec = sc + size\n",
    "\n",
    "    sr, sc, er, ec = map(int, [sr, sc, er, ec])\n",
    "    \n",
    "    if min(sr, sc, er, ec) < 0 or max(sr, sc, er, ec) > max(img.shape):\n",
    "        raise Exception('Lesion crop out of bounds')\n",
    "    \n",
    "    return img[:, sr: er, sc: ec]"
   ]
  },
  {
   "cell_type": "code",
   "execution_count": 128,
   "metadata": {},
   "outputs": [],
   "source": [
    "def load_dicom(label, image_dataset_path):\n",
    "    image_path = next(next((image_dataset_path / label['ProxID']).glob('*/')).glob(f'{label['DCMSerNum']}.000000-{label['DCMSerDescr'].replace('_', '')}-*'))\n",
    "    \n",
    "    height, width, num_slices, _ = map(int, label['Dim'].split('x'))\n",
    "\n",
    "    mri = np.empty((num_slices, width, height), np.uint16)\n",
    "\n",
    "    for ix, dicom_file in enumerate(sorted(image_path.glob('*.dcm'))):\n",
    "        ds = pydicom.dcmread(dicom_file).pixel_array\n",
    "        mri[ix] = ds\n",
    "    \n",
    "    return mri\n",
    "\n",
    "def draw_bounds(r, c, bounding_box_size, ax=None):\n",
    "    bounding_box = patches.Rectangle((c - bounding_box_size / 2, r - bounding_box_size / 2), bounding_box_size, bounding_box_size, linewidth=1, edgecolor='r', facecolor='none')\n",
    "    \n",
    "    if ax:\n",
    "        ax.add_patch(bounding_box)\n",
    "    else:\n",
    "        plt.gca().add_patch(bounding_box)"
   ]
  },
  {
   "cell_type": "code",
   "execution_count": 129,
   "metadata": {},
   "outputs": [],
   "source": [
    "def save_cropped_lesions(image_dataset_path, labels, dst_path):\n",
    "\n",
    "    for ix, row in labels.iterrows():\n",
    "        label = row\n",
    "\n",
    "        # lesion_slice = resized_lesion_coordinates['lesion_slice'].loc[ix]\n",
    "        # lesion_row = resized_lesion_coordinates['lesion_row'].loc[ix]\n",
    "        # lesion_col = resized_lesion_coordinates['lesion_col'].loc[ix]\n",
    "\n",
    "        lesion_slice = label['resized_lesion_slice']\n",
    "        lesion_row = label['resized_lesion_row']\n",
    "        lesion_col = label['resized_lesion_col']\n",
    "\n",
    "        resized_mri = np.empty((5, 320, 320))\n",
    "        \n",
    "        mri = load_dicom_slices(label, lesion_slice - 2, 5, image_dataset_path)\n",
    "\n",
    "        for ix, slice in enumerate(mri):\n",
    "            resized_mri[ix] = cv2.resize(slice, (320, 320))\n",
    "            \n",
    "        cropped_lesion = crop_center(resized_mri, lesion_row, lesion_col, 64)\n",
    "\n",
    "        # fig, axs = plt.subplots(1, 2)\n",
    "\n",
    "        # axs[0].imshow(resized_mri[2])\n",
    "\n",
    "        # draw_bounds(lesion_row, lesion_col, 64, axs[0])\n",
    "\n",
    "        # axs[1].imshow(cropped_lesion[2])\n",
    "\n",
    "        with open(dst_path / label['lesion_crop_filename'], 'wb+') as f:\n",
    "            np.save(f, cropped_lesion)\n",
    "\n",
    "    print('Done')"
   ]
  },
  {
   "cell_type": "code",
   "execution_count": 130,
   "metadata": {},
   "outputs": [
    {
     "name": "stdout",
     "output_type": "stream",
     "text": [
      "Done\n",
      "Done\n"
     ]
    }
   ],
   "source": [
    "image_dataset_path = Path('../data/PROSTATEx-v1-doiJNLP/PROSTATEx/')\n",
    "\n",
    "img_labels_train = pd.read_csv('./ProstateX-TrainingLesionInformationv2/ProstateX-Images-Train.csv')\n",
    "findings_labels_train = pd.read_csv('ProstateX-TrainingLesionInformationv2/ProstateX-Findings-Train.csv')\n",
    "\n",
    "train_labels = join_resize_labels(img_labels_train, findings_labels_train)\n",
    "\n",
    "train_cropped_save_path = Path('cropped_lesions_train/')\n",
    "\n",
    "train_labels.to_csv('cropped_lesions_labels_train.csv')\n",
    "save_cropped_lesions(image_dataset_path, train_labels, train_cropped_save_path)\n",
    "\n",
    "img_labels_test = pd.read_csv('./ProstateX-TestLesionInformation/ProstateX-Images-Test.csv')\n",
    "findings_labels_test = pd.read_csv('./ProstateX-TestLesionInformation/ProstateX-Findings-Test.csv')\n",
    "\n",
    "test_labels = join_resize_labels(img_labels_test, findings_labels_test)\n",
    "\n",
    "test_cropped_save_path = Path('cropped_lesions_test/')\n",
    "\n",
    "test_labels.to_csv('cropped_lesions_labels_test.csv')\n",
    "save_cropped_lesions(image_dataset_path, test_labels, test_cropped_save_path)\n"
   ]
  }
 ],
 "metadata": {
  "kernelspec": {
   "display_name": "Python 3",
   "language": "python",
   "name": "python3"
  },
  "language_info": {
   "codemirror_mode": {
    "name": "ipython",
    "version": 3
   },
   "file_extension": ".py",
   "mimetype": "text/x-python",
   "name": "python",
   "nbconvert_exporter": "python",
   "pygments_lexer": "ipython3",
   "version": "3.12.2"
  }
 },
 "nbformat": 4,
 "nbformat_minor": 2
}
